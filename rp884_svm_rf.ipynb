{
 "cells": [
  {
   "cell_type": "code",
   "execution_count": 55,
   "metadata": {
    "collapsed": true
   },
   "outputs": [],
   "source": [
    "import pandas as pd\n",
    "import numpy as np\n",
    "import glob\n",
    "import matplotlib.pyplot as plt\n",
    "import seaborn as sns\n",
    "sns.set(color_codes=True)\n",
    "from sklearn.metrics import confusion_matrix\n",
    "import itertools"
   ]
  },
  {
   "cell_type": "code",
   "execution_count": 42,
   "metadata": {},
   "outputs": [
    {
     "data": {
      "text/plain": [
       "5776"
      ]
     },
     "execution_count": 42,
     "metadata": {},
     "output_type": "execute_result"
    }
   ],
   "source": [
    "data = pd.read_csv('raw.csv', sep=',',engine='python')\n",
    "df = data\n",
    "len(df)"
   ]
  },
  {
   "cell_type": "code",
   "execution_count": 43,
   "metadata": {},
   "outputs": [
    {
     "data": {
      "text/plain": [
       "INSUL        0.784200\n",
       "TAAV        25.000000\n",
       "RH          61.000000\n",
       "dayav_ta    27.555556\n",
       "dayav_rh    81.550000\n",
       "MET          1.000000\n",
       "Name: 0, dtype: float64"
      ]
     },
     "execution_count": 43,
     "metadata": {},
     "output_type": "execute_result"
    }
   ],
   "source": [
    "data_new = df.dropna(subset=['ASH','INSUL','TAAV','RH','dayav_ta','dayav_rh','MET'])\n",
    "data_new.to_csv('raw_new.csv')\n",
    "# get features and thermal sensation\n",
    "y = data_new['ASH']\n",
    "x = data_new[['INSUL','TAAV','RH','dayav_ta','dayav_rh','MET']]\n",
    "#bool = (y==-3 or y==-2 or y==-1 or y==0 or y==1 or y==2 or y==3)\n",
    "y = np.round(y)\n",
    "from sklearn import preprocessing\n",
    "lab_enc = preprocessing.LabelEncoder()\n",
    "encoded = lab_enc.fit_transform(y)\n",
    "np.unique(encoded)\n",
    "x.iloc[0]"
   ]
  },
  {
   "cell_type": "code",
   "execution_count": 44,
   "metadata": {
    "collapsed": true
   },
   "outputs": [],
   "source": [
    "import sklearn.preprocessing, sklearn.decomposition,sklearn.linear_model, sklearn.pipeline, sklearn.metrics\n",
    "from sklearn.model_selection import GridSearchCV, cross_val_score\n",
    "from sklearn import datasets, svm\n",
    "from sklearn.model_selection import KFold, cross_val_score\n",
    "from sklearn.feature_extraction.text import CountVectorizer\n",
    "from sklearn_pandas import DataFrameMapper\n",
    "from sklearn.ensemble import RandomForestClassifier"
   ]
  },
  {
   "cell_type": "code",
   "execution_count": 45,
   "metadata": {},
   "outputs": [
    {
     "data": {
      "text/plain": [
       "array([[  0.7842    ,  25.        ,  61.        ,  27.55555556,\n",
       "         81.55      ,   1.        ],\n",
       "       [  0.682944  ,  25.        ,  61.        ,  27.55555556,\n",
       "         81.55      ,   1.        ],\n",
       "       [  0.682944  ,  25.        ,  61.        ,  27.55555556,\n",
       "         81.55      ,   1.        ],\n",
       "       ..., \n",
       "       [  0.82828   ,  23.3       ,  56.1       ,  26.94444444,\n",
       "         49.5       ,   1.        ],\n",
       "       [  0.79272   ,  23.2       ,  56.1       ,  26.94444444,\n",
       "         49.5       ,   1.        ],\n",
       "       [  0.65324   ,  23.4       ,  53.5       ,  26.94444444,\n",
       "         49.5       ,   1.        ]])"
      ]
     },
     "execution_count": 45,
     "metadata": {},
     "output_type": "execute_result"
    }
   ],
   "source": [
    "mapper = DataFrameMapper([(['INSUL'], None),\n",
    "                         (['TAAV'], None),\n",
    "                          (['RH'], None),\n",
    "                          (['dayav_ta'], None),\n",
    "                         (['dayav_rh'],None),\n",
    "                         (['MET'],None)])\n",
    "mapper.fit_transform(x.copy())\n",
    "# count the number of thermal sensation\n",
    "# bool = (y==3)\n",
    "# len(y[bool])"
   ]
  },
  {
   "cell_type": "code",
   "execution_count": 46,
   "metadata": {},
   "outputs": [
    {
     "data": {
      "text/plain": [
       "array([ 0.38145695,  0.41644562,  0.4873502 ,  0.488     ,  0.48796791])"
      ]
     },
     "execution_count": 46,
     "metadata": {},
     "output_type": "execute_result"
    }
   ],
   "source": [
    "#clf = svm.SVC(kernel='linear')\n",
    "C=1\n",
    "clf = svm.SVC(kernel='rbf',gamma=0.1,C=C)\n",
    "pipe = sklearn.pipeline.Pipeline([('featurize', mapper),('svc', clf)])\n",
    "# random forest\n",
    "clf = RandomForestClassifier(n_estimators=50, max_depth = 3, random_state=0)\n",
    "pipe = sklearn.pipeline.Pipeline([('featurize', mapper),('randomforest', clf)])\n",
    "#np.round(cross_val_score(pipe, X=data_new.copy(), y=data_new.comfort, scoring='r2'), 2)\n",
    "cross_val_score(pipe, X=x.copy(), y=encoded, cv=5)"
   ]
  },
  {
   "cell_type": "code",
   "execution_count": 47,
   "metadata": {
    "collapsed": true
   },
   "outputs": [],
   "source": [
    "# testing\n",
    "from sklearn.model_selection import cross_val_predict\n",
    "from sklearn import metrics"
   ]
  },
  {
   "cell_type": "code",
   "execution_count": 53,
   "metadata": {},
   "outputs": [],
   "source": [
    "# evaluation\n",
    "predicted = cross_val_predict(clf, x.copy(), encoded, cv=5)\n",
    "metrics.accuracy_score(encoded, predicted) \n",
    "matrix_sensation = confusion_matrix(encoded, predicted)"
   ]
  },
  {
   "cell_type": "code",
   "execution_count": 49,
   "metadata": {},
   "outputs": [
    {
     "data": {
      "text/plain": [
       "0.0"
      ]
     },
     "execution_count": 49,
     "metadata": {},
     "output_type": "execute_result"
    }
   ],
   "source": [
    "test = x.iloc[[0]]\n",
    "clf.fit(x,y)\n",
    "gt = y[0]\n",
    "pred = clf.predict(test)\n",
    "pred\n",
    "gt"
   ]
  },
  {
   "cell_type": "code",
   "execution_count": 50,
   "metadata": {},
   "outputs": [
    {
     "data": {
      "text/plain": [
       "array([ 0.])"
      ]
     },
     "execution_count": 50,
     "metadata": {},
     "output_type": "execute_result"
    }
   ],
   "source": [
    "import pickle\n",
    "filename = 'rf_model.sav'\n",
    "# python2\n",
    "#pickle.dump(clf,open(filename,'wb'),protocol=2)\n",
    "# python3\n",
    "pickle.dump(clf,open(filename,'wb'))\n",
    "load_model = pickle.load(open(filename,'rb'))\n",
    "pred = load_model.predict(test)\n",
    "pred"
   ]
  },
  {
   "cell_type": "code",
   "execution_count": 57,
   "metadata": {
    "collapsed": true
   },
   "outputs": [],
   "source": [
    "def plot_confusion_matrix(cm, classes,\n",
    "                          normalize=False,\n",
    "                          title='Confusion matrix',\n",
    "                          cmap=plt.cm.Blues):\n",
    "    \"\"\"\n",
    "    This function prints and plots the confusion matrix.\n",
    "    Normalization can be applied by setting `normalize=True`.\n",
    "    \"\"\"\n",
    "    if normalize:\n",
    "        cm = cm.astype('float') / cm.sum(axis=1)[:, np.newaxis]\n",
    "        print(\"Normalized confusion matrix\")\n",
    "    else:\n",
    "        print('Confusion matrix, without normalization')\n",
    "        \n",
    "    plt.imshow(cm, interpolation='nearest', cmap=cmap)\n",
    "    plt.title(title)\n",
    "    plt.colorbar()\n",
    "    tick_marks = np.arange(len(classes))\n",
    "    plt.xticks(tick_marks, classes, rotation=45)\n",
    "    plt.yticks(tick_marks, classes)\n",
    "\n",
    "    fmt = '.2f' if normalize else 'd'\n",
    "    thresh = cm.max() / 2.\n",
    "    for i, j in itertools.product(range(cm.shape[0]), range(cm.shape[1])):\n",
    "        plt.text(j, i, format(cm[i, j], fmt),\n",
    "                 horizontalalignment=\"center\",\n",
    "                 color=\"white\" if cm[i, j] > thresh else \"black\")\n",
    "\n",
    "    plt.tight_layout()\n",
    "    plt.ylabel('True label')\n",
    "    plt.xlabel('Predicted label')"
   ]
  },
  {
   "cell_type": "code",
   "execution_count": 58,
   "metadata": {},
   "outputs": [
    {
     "name": "stdout",
     "output_type": "stream",
     "text": [
      "Confusion matrix, without normalization\n"
     ]
    }
   ],
   "source": [
    "class_names = {'-3','-2','-1','0','1','2','3'}\n",
    "plot_confusion_matrix(matrix_sensation,classes=class_names,\n",
    "                      title='confusion matrix of thermal sensation')"
   ]
  },
  {
   "cell_type": "code",
   "execution_count": null,
   "metadata": {
    "collapsed": true
   },
   "outputs": [],
   "source": []
  }
 ],
 "metadata": {
  "kernelspec": {
   "display_name": "Python 3",
   "language": "python",
   "name": "python3"
  },
  "language_info": {
   "codemirror_mode": {
    "name": "ipython",
    "version": 3
   },
   "file_extension": ".py",
   "mimetype": "text/x-python",
   "name": "python",
   "nbconvert_exporter": "python",
   "pygments_lexer": "ipython3",
   "version": "3.6.3"
  }
 },
 "nbformat": 4,
 "nbformat_minor": 2
}
