{
 "cells": [
  {
   "cell_type": "code",
   "execution_count": 51,
   "metadata": {
    "collapsed": true
   },
   "outputs": [],
   "source": [
    "%matplotlib inline\n",
    "import matplotlib.pyplot as plt\n",
    "import pandas as pd\n",
    "import numpy as np\n",
    "from sklearn import cluster, datasets, mixture\n",
    "from sklearn.decomposition import PCA, KernelPCA\n",
    "from sklearn.ensemble import RandomForestClassifier\n",
    "import itertools\n",
    "from sklearn import svm\n",
    "from sklearn.preprocessing import StandardScaler"
   ]
  },
  {
   "cell_type": "code",
   "execution_count": 52,
   "metadata": {},
   "outputs": [
    {
     "name": "stdout",
     "output_type": "stream",
     "text": [
      "3275\n"
     ]
    }
   ],
   "source": [
    "data_new = pd.read_csv('raw_new.csv', sep=',',engine='python')\n",
    "#x = data_new[['INSUL','TAAV','RH','dayav_ta','dayav_rh','MET','TRAV']]\n",
    "x = data_new[['TAAV','RH','TRAV']]\n",
    "#x = data_new[['RH','TAAV']]\n",
    "#normalize\n",
    "# scaler = StandardScaler()\n",
    "# x = scaler.fit_transform(x)\n",
    "# raw y without rounding \n",
    "y = data_new['ASH']\n",
    "y = y.round().astype(int)\n",
    "print(len(y))"
   ]
  },
  {
   "cell_type": "code",
   "execution_count": 53,
   "metadata": {},
   "outputs": [
    {
     "name": "stdout",
     "output_type": "stream",
     "text": [
      "2358\n",
      "3418\n"
     ]
    }
   ],
   "source": [
    "data_new = pd.read_csv('raw.csv', sep=',',engine='python')\n",
    "y0 = data_new['ASH']\n",
    "print(np.shape(np.where(y0==0))[1])\n",
    "print(np.shape(np.where(y0!=0))[1])"
   ]
  },
  {
   "cell_type": "code",
   "execution_count": 54,
   "metadata": {},
   "outputs": [
    {
     "data": {
      "image/png": "[encoded data removed]",
      "text/plain": [
       "<Figure size 432x288 with 1 Axes>"
      ]
     },
     "metadata": {},
     "output_type": "display_data"
    },
    {
     "name": "stdout",
     "output_type": "stream",
     "text": [
      "[41612.85267231 39493.64899829 39174.46664593 38944.42270466\n",
      " 38740.10461107 38738.00135754 38607.95012357 38570.9963011\n",
      " 38591.2583391  38641.61857309 38627.85216124 38708.24135544\n",
      " 38706.33581456 38656.4400526  38700.56564473 38652.61464471\n",
      " 38788.41311074 38487.57763087 38812.76123676]\n"
     ]
    },
    {
     "data": {
      "text/plain": [
       "18"
      ]
     },
     "execution_count": 54,
     "metadata": {},
     "output_type": "execute_result"
    }
   ],
   "source": [
    "lowest_bic = np.infty\n",
    "# it seems to converge to local??? \n",
    "n_components_range = range(1, 20)\n",
    "#cv_types = ['spherical', 'tied', 'diag', 'full']\n",
    "cv_types = ['full']\n",
    "i = 0\n",
    "for cv_type in cv_types:\n",
    "    bic = []\n",
    "    i += 1\n",
    "    for n_components in n_components_range:\n",
    "        # Fit a Gaussian mixture with EM\n",
    "        gmm = mixture.GaussianMixture(n_components=n_components,\n",
    "                                      covariance_type=cv_type)\n",
    "        gmm.fit(x)\n",
    "        bic.append(gmm.bic(x))\n",
    "        if bic[-1] < lowest_bic:\n",
    "            lowest_bic = bic[-1]\n",
    "            best_gmm = gmm\n",
    "            best_n = n_components\n",
    "    bic = np.array(bic)\n",
    "    plt.subplot(2,2,i)\n",
    "    plt.xlabel('the number of cluster')\n",
    "    plt.ylabel('BIC score')\n",
    "    plt.scatter(range(len(bic)),bic,s=5)\n",
    "    plt.show()\n",
    "        \n",
    "# color_iter = itertools.cycle(['navy', 'turquoise', 'cornflowerblue',\n",
    "#                               'darkorange'])\n",
    "gmm = best_gmm\n",
    "print(bic)\n",
    "best_n"
   ]
  },
  {
   "cell_type": "code",
   "execution_count": 55,
   "metadata": {
    "collapsed": true
   },
   "outputs": [],
   "source": [
    "gmm = mixture.GaussianMixture(n_components=7, covariance_type='full')"
   ]
  },
  {
   "cell_type": "code",
   "execution_count": 56,
   "metadata": {},
   "outputs": [
    {
     "data": {
      "text/plain": [
       "array([0, 1, 2, 3, 4, 5, 6])"
      ]
     },
     "execution_count": 56,
     "metadata": {},
     "output_type": "execute_result"
    }
   ],
   "source": [
    "gmm.fit(x)\n",
    "#gmm.fit(z)\n",
    "# testing should be different from training!!!\n",
    "cluster = gmm.predict(x)\n",
    "#cluster = gmm.predict(z)\n",
    "np.unique(cluster)"
   ]
  },
  {
   "cell_type": "code",
   "execution_count": 57,
   "metadata": {
    "collapsed": true
   },
   "outputs": [],
   "source": [
    "import pickle\n",
    "filename = 'gmm_model.sav'\n",
    "# python3\n",
    "pickle.dump(gmm,open(filename,'wb'))"
   ]
  },
  {
   "cell_type": "code",
   "execution_count": 58,
   "metadata": {
    "collapsed": true
   },
   "outputs": [],
   "source": [
    "load_model = pickle.load(open(filename,'rb'))\n",
    "test = [35,25]\n",
    "# pred = load_model.predict(np.array(test).reshape(1,-1))\n",
    "# pred"
   ]
  },
  {
   "cell_type": "code",
   "execution_count": 59,
   "metadata": {},
   "outputs": [
    {
     "data": {
      "text/plain": [
       "Text(0, 0.5, 'Air Temperature')"
      ]
     },
     "execution_count": 59,
     "metadata": {},
     "output_type": "execute_result"
    },
    {
     "data": {
      "image/png": "[encoded data removed]",
      "text/plain": [
       "<Figure size 432x288 with 1 Axes>"
      ]
     },
     "metadata": {},
     "output_type": "display_data"
    }
   ],
   "source": [
    "LABEL_COLOR_MAP = {0 : 'r',\n",
    "                   1 : 'orange',\n",
    "                   2 : 'g',\n",
    "                   3 : 'purple',\n",
    "                   4 : 'b',\n",
    "                   5 : 'black',\n",
    "                   6 : 'green'\n",
    "                   }\n",
    "#labels = ['0','1','2','3']\n",
    "label_color = [LABEL_COLOR_MAP[l] for l in cluster]\n",
    "plt.scatter(x['RH'],x['TAAV'],c=label_color,s=10,cmap='viridis')\n",
    "plt.xlabel(\"Radiant Temperature\")\n",
    "plt.ylabel(\"Air Temperature\")"
   ]
  },
  {
   "cell_type": "code",
   "execution_count": 60,
   "metadata": {},
   "outputs": [
    {
     "data": {
      "text/plain": [
       "'\\n# normalize x\\nscaler = StandardScaler()\\nnormx = scaler.fit_transform(x)\\ngmm = mixture.GaussianMixture(n_components=4, covariance_type=\\'diag\\')\\ngmm.fit(normx)\\n# testing should be different from training!!!\\ncluster = gmm.predict(normx)\\nnp.unique(cluster)\\nLABEL_COLOR_MAP = {0 : \\'r\\',\\n                   1 : \\'orange\\',\\n                   2 : \\'g\\',\\n                   3 : \\'purple\\'\\n                   }\\nlabels = [\\'0\\',\\'1\\',\\'2\\',\\'3\\']\\nlabel_color = [LABEL_COLOR_MAP[l] for l in cluster]\\nplt.scatter(x[\\'TAAV\\'],x[\\'RH\\'],c=label_color,s=10,cmap=\\'viridis\\')\\nplt.xlabel(\"Temperature\")\\nplt.ylabel(\"Relative humidity\")\\n'"
      ]
     },
     "execution_count": 60,
     "metadata": {},
     "output_type": "execute_result"
    }
   ],
   "source": [
    "'''\n",
    "# normalize x\n",
    "scaler = StandardScaler()\n",
    "normx = scaler.fit_transform(x)\n",
    "gmm = mixture.GaussianMixture(n_components=4, covariance_type='diag')\n",
    "gmm.fit(normx)\n",
    "# testing should be different from training!!!\n",
    "cluster = gmm.predict(normx)\n",
    "np.unique(cluster)\n",
    "LABEL_COLOR_MAP = {0 : 'r',\n",
    "                   1 : 'orange',\n",
    "                   2 : 'g',\n",
    "                   3 : 'purple'\n",
    "                   }\n",
    "labels = ['0','1','2','3']\n",
    "label_color = [LABEL_COLOR_MAP[l] for l in cluster]\n",
    "plt.scatter(x['TAAV'],x['RH'],c=label_color,s=10,cmap='viridis')\n",
    "plt.xlabel(\"Temperature\")\n",
    "plt.ylabel(\"Relative humidity\")\n",
    "'''"
   ]
  },
  {
   "cell_type": "code",
   "execution_count": 61,
   "metadata": {
    "collapsed": true
   },
   "outputs": [],
   "source": [
    "# get the features of each cluster\n",
    "index0, = np.where(cluster == 0)\n",
    "index1, = np.where(cluster == 1)\n",
    "index2, = np.where(cluster == 2)\n",
    "index3, = np.where(cluster == 3)\n",
    "index4, = np.where(cluster == 4)\n",
    "index5, = np.where(cluster == 5)\n",
    "index6, = np.where(cluster == 6)\n",
    "x0 = x.iloc[index0.tolist()]\n",
    "x1 = x.iloc[index1.tolist()]\n",
    "x2 = x.iloc[index2.tolist()]\n",
    "x3 = x.iloc[index3.tolist()]\n",
    "x4 = x.iloc[index4.tolist()]\n",
    "x5 = x.iloc[index5.tolist()]\n",
    "x6 = x.iloc[index6.tolist()]\n",
    "# get the sensation of each cluster\n",
    "y0 = y.iloc[index0.tolist()]\n",
    "y1 = y.iloc[index1.tolist()]\n",
    "y2 = y.iloc[index2.tolist()]\n",
    "y3 = y.iloc[index3.tolist()]\n",
    "y4 = y.iloc[index4.tolist()]\n",
    "y5 = y.iloc[index5.tolist()]\n",
    "y6 = y.iloc[index6.tolist()]"
   ]
  },
  {
   "cell_type": "code",
   "execution_count": 62,
   "metadata": {},
   "outputs": [
    {
     "name": "stdout",
     "output_type": "stream",
     "text": [
      "INSUL TAAV RH\n"
     ]
    },
    {
     "data": {
      "text/plain": [
       "array([[22.2249247 , 29.75344985, 22.45795849],\n",
       "       [22.81341059, 47.46360119, 23.16064317],\n",
       "       [23.0883435 , 63.04570677, 23.34371745],\n",
       "       [23.10630699, 59.82534873, 23.73146047],\n",
       "       [22.98873694, 41.57834555, 23.15617515],\n",
       "       [23.46380514, 52.93754229, 23.996105  ],\n",
       "       [23.57547497, 26.52210295, 23.05493899]])"
      ]
     },
     "execution_count": 62,
     "metadata": {},
     "output_type": "execute_result"
    }
   ],
   "source": [
    "print('INSUL','TAAV','RH')\n",
    "gmm.means_"
   ]
  },
  {
   "cell_type": "code",
   "execution_count": 63,
   "metadata": {},
   "outputs": [
    {
     "data": {
      "text/plain": [
       "array([[[ 1.20137095, -1.49293128,  1.28288116],\n",
       "        [-1.49293128, 21.77792325, -1.53553435],\n",
       "        [ 1.28288116, -1.53553435,  1.40350198]],\n",
       "\n",
       "       [[ 2.05706578,  4.39906344,  1.96111743],\n",
       "        [ 4.39906344, 80.54873664,  2.85262113],\n",
       "        [ 1.96111743,  2.85262113,  1.99320661]],\n",
       "\n",
       "       [[ 0.82984513, -1.11469516,  0.72341736],\n",
       "        [-1.11469516, 24.7343544 , -0.45857093],\n",
       "        [ 0.72341736, -0.45857093,  0.68276374]],\n",
       "\n",
       "       [[ 0.95475012,  0.53958571,  0.84816667],\n",
       "        [ 0.53958571,  2.53244492,  0.59246012],\n",
       "        [ 0.84816667,  0.59246012,  0.91647825]],\n",
       "\n",
       "       [[ 0.39156801, -1.73870402,  0.361627  ],\n",
       "        [-1.73870402, 58.49127647, -1.69043343],\n",
       "        [ 0.361627  , -1.69043343,  0.34937981]],\n",
       "\n",
       "       [[ 2.06429818, -4.20919093,  1.78822316],\n",
       "        [-4.20919093, 43.13712557, -4.38586068],\n",
       "        [ 1.78822316, -4.38586068,  2.40573992]],\n",
       "\n",
       "       [[ 3.89953897, -4.52735762,  2.25025195],\n",
       "        [-4.52735762, 13.39915351, -0.88569031],\n",
       "        [ 2.25025195, -0.88569031,  5.24161086]]])"
      ]
     },
     "execution_count": 63,
     "metadata": {},
     "output_type": "execute_result"
    }
   ],
   "source": [
    "gmm.covariances_"
   ]
  },
  {
   "cell_type": "code",
   "execution_count": 64,
   "metadata": {
    "collapsed": true
   },
   "outputs": [],
   "source": [
    "import matplotlib.pyplot as plt\n",
    "import matplotlib as mpl\n",
    "import itertools"
   ]
  },
  {
   "cell_type": "code",
   "execution_count": 65,
   "metadata": {
    "collapsed": true
   },
   "outputs": [],
   "source": [
    "import seaborn as sns"
   ]
  },
  {
   "cell_type": "code",
   "execution_count": 66,
   "metadata": {},
   "outputs": [
    {
     "name": "stdout",
     "output_type": "stream",
     "text": [
      "(1, 296)\n",
      "(1, 162)\n",
      "(1, 134)\n"
     ]
    },
    {
     "name": "stderr",
     "output_type": "stream",
     "text": [
      "/Users/lusiliang93/anaconda3/lib/python3.6/site-packages/matplotlib/axes/_axes.py:6510: MatplotlibDeprecationWarning: \n",
      "The 'normed' kwarg was deprecated in Matplotlib 2.1 and will be removed in 3.1. Use 'density' instead.\n",
      "  alternative=\"'density'\", removal=\"3.1\")\n"
     ]
    },
    {
     "data": {
      "image/png": "[encoded data removed]",
      "text/plain": [
       "<Figure size 432x288 with 1 Axes>"
      ]
     },
     "metadata": {},
     "output_type": "display_data"
    }
   ],
   "source": [
    "sns.distplot(y0,color='r',kde=False)\n",
    "plt.ylabel('Number of samples')\n",
    "plt.xlabel('Prediction of thermal sensation in cluster 1')\n",
    "print(np.shape(np.where(y0==0)))\n",
    "print(np.shape(np.where(y0<0)))\n",
    "print(np.shape(np.where(y0>0)))"
   ]
  },
  {
   "cell_type": "code",
   "execution_count": 67,
   "metadata": {},
   "outputs": [
    {
     "name": "stderr",
     "output_type": "stream",
     "text": [
      "/Users/lusiliang93/anaconda3/lib/python3.6/site-packages/matplotlib/axes/_axes.py:6510: MatplotlibDeprecationWarning: \n",
      "The 'normed' kwarg was deprecated in Matplotlib 2.1 and will be removed in 3.1. Use 'density' instead.\n",
      "  alternative=\"'density'\", removal=\"3.1\")\n"
     ]
    },
    {
     "name": "stdout",
     "output_type": "stream",
     "text": [
      "(1, 259)\n",
      "(1, 145)\n",
      "(1, 176)\n"
     ]
    },
    {
     "data": {
      "image/png": "[encoded data removed]",
      "text/plain": [
       "<Figure size 432x288 with 1 Axes>"
      ]
     },
     "metadata": {},
     "output_type": "display_data"
    }
   ],
   "source": [
    "sns.distplot(y1,color='cyan',kde=False)\n",
    "plt.ylabel('Number of samples')\n",
    "plt.xlabel('Prediction of thermal sensation in cluster 2')\n",
    "print(np.shape(np.where(y1==0)))\n",
    "print(np.shape(np.where(y1<0)))\n",
    "print(np.shape(np.where(y1>0)))"
   ]
  },
  {
   "cell_type": "code",
   "execution_count": 68,
   "metadata": {},
   "outputs": [
    {
     "name": "stderr",
     "output_type": "stream",
     "text": [
      "/Users/lusiliang93/anaconda3/lib/python3.6/site-packages/matplotlib/axes/_axes.py:6510: MatplotlibDeprecationWarning: \n",
      "The 'normed' kwarg was deprecated in Matplotlib 2.1 and will be removed in 3.1. Use 'density' instead.\n",
      "  alternative=\"'density'\", removal=\"3.1\")\n"
     ]
    },
    {
     "name": "stdout",
     "output_type": "stream",
     "text": [
      "(1, 286)\n",
      "(1, 124)\n",
      "(1, 207)\n"
     ]
    },
    {
     "data": {
      "image/png": "[encoded data removed]",
      "text/plain": [
       "<Figure size 432x288 with 1 Axes>"
      ]
     },
     "metadata": {},
     "output_type": "display_data"
    }
   ],
   "source": [
    "sns.distplot(y2,color='g',kde=False)\n",
    "plt.ylabel('Number of samples')\n",
    "plt.xlabel('Prediction of thermal sensation in cluster 3')\n",
    "print(np.shape(np.where(y2==0)))\n",
    "print(np.shape(np.where(y2<0)))\n",
    "print(np.shape(np.where(y2>0)))"
   ]
  },
  {
   "cell_type": "code",
   "execution_count": 69,
   "metadata": {},
   "outputs": [
    {
     "name": "stderr",
     "output_type": "stream",
     "text": [
      "/Users/lusiliang93/anaconda3/lib/python3.6/site-packages/matplotlib/axes/_axes.py:6510: MatplotlibDeprecationWarning: \n",
      "The 'normed' kwarg was deprecated in Matplotlib 2.1 and will be removed in 3.1. Use 'density' instead.\n",
      "  alternative=\"'density'\", removal=\"3.1\")\n"
     ]
    },
    {
     "name": "stdout",
     "output_type": "stream",
     "text": [
      "(1, 88)\n",
      "(1, 58)\n",
      "(1, 34)\n"
     ]
    },
    {
     "data": {
      "image/png": "[encoded data removed]",
      "text/plain": [
       "<Figure size 432x288 with 1 Axes>"
      ]
     },
     "metadata": {},
     "output_type": "display_data"
    }
   ],
   "source": [
    "sns.distplot(y3,color='purple',kde=False)\n",
    "plt.ylabel('Number of samples')\n",
    "plt.xlabel('Prediction of thermal sensation in cluster 4')\n",
    "print(np.shape(np.where(y3==0)))\n",
    "print(np.shape(np.where(y3<0)))\n",
    "print(np.shape(np.where(y3>0)))"
   ]
  },
  {
   "cell_type": "code",
   "execution_count": 70,
   "metadata": {},
   "outputs": [
    {
     "name": "stderr",
     "output_type": "stream",
     "text": [
      "/Users/lusiliang93/anaconda3/lib/python3.6/site-packages/matplotlib/axes/_axes.py:6510: MatplotlibDeprecationWarning: \n",
      "The 'normed' kwarg was deprecated in Matplotlib 2.1 and will be removed in 3.1. Use 'density' instead.\n",
      "  alternative=\"'density'\", removal=\"3.1\")\n"
     ]
    },
    {
     "name": "stdout",
     "output_type": "stream",
     "text": [
      "(1, 447)\n",
      "(1, 142)\n",
      "(1, 279)\n"
     ]
    },
    {
     "data": {
      "image/png": "[encoded data removed]",
      "text/plain": [
       "<Figure size 432x288 with 1 Axes>"
      ]
     },
     "metadata": {},
     "output_type": "display_data"
    }
   ],
   "source": [
    "sns.distplot(y3,color='blue',kde=False)\n",
    "plt.ylabel('Number of samples')\n",
    "plt.xlabel('Prediction of thermal sensation in cluster 5')\n",
    "print(np.shape(np.where(y4==0)))\n",
    "print(np.shape(np.where(y4<0)))\n",
    "print(np.shape(np.where(y4>0)))"
   ]
  },
  {
   "cell_type": "code",
   "execution_count": 71,
   "metadata": {},
   "outputs": [
    {
     "name": "stderr",
     "output_type": "stream",
     "text": [
      "/Users/lusiliang93/anaconda3/lib/python3.6/site-packages/matplotlib/axes/_axes.py:6510: MatplotlibDeprecationWarning: \n",
      "The 'normed' kwarg was deprecated in Matplotlib 2.1 and will be removed in 3.1. Use 'density' instead.\n",
      "  alternative=\"'density'\", removal=\"3.1\")\n"
     ]
    },
    {
     "name": "stdout",
     "output_type": "stream",
     "text": [
      "(1, 171)\n",
      "(1, 102)\n",
      "(1, 132)\n"
     ]
    },
    {
     "data": {
      "image/png": "[encoded data removed]",
      "text/plain": [
       "<Figure size 432x288 with 1 Axes>"
      ]
     },
     "metadata": {},
     "output_type": "display_data"
    }
   ],
   "source": [
    "sns.distplot(y3,color='black',kde=False)\n",
    "plt.ylabel('Number of samples')\n",
    "plt.xlabel('Prediction of thermal sensation incluster 6')\n",
    "print(np.shape(np.where(y5==0)))\n",
    "print(np.shape(np.where(y5<0)))\n",
    "print(np.shape(np.where(y5>0)))"
   ]
  },
  {
   "cell_type": "code",
   "execution_count": 72,
   "metadata": {},
   "outputs": [
    {
     "name": "stderr",
     "output_type": "stream",
     "text": [
      "/Users/lusiliang93/anaconda3/lib/python3.6/site-packages/matplotlib/axes/_axes.py:6510: MatplotlibDeprecationWarning: \n",
      "The 'normed' kwarg was deprecated in Matplotlib 2.1 and will be removed in 3.1. Use 'density' instead.\n",
      "  alternative=\"'density'\", removal=\"3.1\")\n"
     ]
    },
    {
     "name": "stdout",
     "output_type": "stream",
     "text": [
      "(1, 13)\n",
      "(1, 10)\n",
      "(1, 10)\n"
     ]
    },
    {
     "data": {
      "image/png": "[encoded data removed]",
      "text/plain": [
       "<Figure size 432x288 with 1 Axes>"
      ]
     },
     "metadata": {},
     "output_type": "display_data"
    }
   ],
   "source": [
    "sns.distplot(y3,color='brown',kde=False)\n",
    "plt.ylabel('Number of samples')\n",
    "plt.xlabel('Prediction of thermal sensation in cluster 7')\n",
    "print(np.shape(np.where(y6==0)))\n",
    "print(np.shape(np.where(y6<0)))\n",
    "print(np.shape(np.where(y6>0)))"
   ]
  },
  {
   "cell_type": "code",
   "execution_count": 73,
   "metadata": {},
   "outputs": [
    {
     "name": "stderr",
     "output_type": "stream",
     "text": [
      "/Users/lusiliang93/anaconda3/lib/python3.6/site-packages/matplotlib/axes/_axes.py:6510: MatplotlibDeprecationWarning: \n",
      "The 'normed' kwarg was deprecated in Matplotlib 2.1 and will be removed in 3.1. Use 'density' instead.\n",
      "  alternative=\"'density'\", removal=\"3.1\")\n"
     ]
    },
    {
     "name": "stdout",
     "output_type": "stream",
     "text": [
      "1560\n",
      "1715\n"
     ]
    },
    {
     "data": {
      "image/png": "[encoded data removed]",
      "text/plain": [
       "<Figure size 432x288 with 1 Axes>"
      ]
     },
     "metadata": {},
     "output_type": "display_data"
    }
   ],
   "source": [
    "sns.distplot(y)\n",
    "plt.ylabel('Density')\n",
    "plt.xlabel('Prediction of thermal sensation')\n",
    "print(np.shape(np.where(y==0))[1])\n",
    "print(np.shape(np.where(y!=0))[1])"
   ]
  },
  {
   "cell_type": "code",
   "execution_count": 74,
   "metadata": {},
   "outputs": [
    {
     "name": "stderr",
     "output_type": "stream",
     "text": [
      "/Users/lusiliang93/anaconda3/lib/python3.6/site-packages/matplotlib/axes/_axes.py:6510: MatplotlibDeprecationWarning: \n",
      "The 'normed' kwarg was deprecated in Matplotlib 2.1 and will be removed in 3.1. Use 'density' instead.\n",
      "  alternative=\"'density'\", removal=\"3.1\")\n"
     ]
    },
    {
     "data": {
      "text/plain": [
       "Text(0.5, 0, 'TAAV')"
      ]
     },
     "execution_count": 74,
     "metadata": {},
     "output_type": "execute_result"
    },
    {
     "data": {
      "image/png": "[encoded data removed]",
      "text/plain": [
       "<Figure size 432x288 with 1 Axes>"
      ]
     },
     "metadata": {},
     "output_type": "display_data"
    }
   ],
   "source": [
    "sns.distplot(x2['TAAV'])\n",
    "plt.ylabel('Density')\n",
    "plt.xlabel('TAAV')"
   ]
  },
  {
   "cell_type": "code",
   "execution_count": 75,
   "metadata": {},
   "outputs": [
    {
     "ename": "KeyError",
     "evalue": "\"['INSUL'] not in index\"",
     "output_type": "error",
     "traceback": [
      "\u001b[0;31m---------------------------------------------------------------------------\u001b[0m",
      "\u001b[0;31mKeyError\u001b[0m                                  Traceback (most recent call last)",
      "\u001b[0;32m<ipython-input-75-74c6da6f247f>\u001b[0m in \u001b[0;36m<module>\u001b[0;34m()\u001b[0m\n\u001b[0;32m----> 1\u001b[0;31m \u001b[0mx_new\u001b[0m \u001b[0;34m=\u001b[0m \u001b[0mx\u001b[0m\u001b[0;34m[\u001b[0m\u001b[0;34m[\u001b[0m\u001b[0;34m'TAAV'\u001b[0m\u001b[0;34m,\u001b[0m\u001b[0;34m'RH'\u001b[0m\u001b[0;34m,\u001b[0m\u001b[0;34m'INSUL'\u001b[0m\u001b[0;34m]\u001b[0m\u001b[0;34m]\u001b[0m\u001b[0;34m\u001b[0m\u001b[0m\n\u001b[0m",
      "\u001b[0;32m~/anaconda3/lib/python3.6/site-packages/pandas/core/frame.py\u001b[0m in \u001b[0;36m__getitem__\u001b[0;34m(self, key)\u001b[0m\n\u001b[1;32m   2131\u001b[0m         \u001b[0;32mif\u001b[0m \u001b[0misinstance\u001b[0m\u001b[0;34m(\u001b[0m\u001b[0mkey\u001b[0m\u001b[0;34m,\u001b[0m \u001b[0;34m(\u001b[0m\u001b[0mSeries\u001b[0m\u001b[0;34m,\u001b[0m \u001b[0mnp\u001b[0m\u001b[0;34m.\u001b[0m\u001b[0mndarray\u001b[0m\u001b[0;34m,\u001b[0m \u001b[0mIndex\u001b[0m\u001b[0;34m,\u001b[0m \u001b[0mlist\u001b[0m\u001b[0;34m)\u001b[0m\u001b[0;34m)\u001b[0m\u001b[0;34m:\u001b[0m\u001b[0;34m\u001b[0m\u001b[0m\n\u001b[1;32m   2132\u001b[0m             \u001b[0;31m# either boolean or fancy integer index\u001b[0m\u001b[0;34m\u001b[0m\u001b[0;34m\u001b[0m\u001b[0m\n\u001b[0;32m-> 2133\u001b[0;31m             \u001b[0;32mreturn\u001b[0m \u001b[0mself\u001b[0m\u001b[0;34m.\u001b[0m\u001b[0m_getitem_array\u001b[0m\u001b[0;34m(\u001b[0m\u001b[0mkey\u001b[0m\u001b[0;34m)\u001b[0m\u001b[0;34m\u001b[0m\u001b[0m\n\u001b[0m\u001b[1;32m   2134\u001b[0m         \u001b[0;32melif\u001b[0m \u001b[0misinstance\u001b[0m\u001b[0;34m(\u001b[0m\u001b[0mkey\u001b[0m\u001b[0;34m,\u001b[0m \u001b[0mDataFrame\u001b[0m\u001b[0;34m)\u001b[0m\u001b[0;34m:\u001b[0m\u001b[0;34m\u001b[0m\u001b[0m\n\u001b[1;32m   2135\u001b[0m             \u001b[0;32mreturn\u001b[0m \u001b[0mself\u001b[0m\u001b[0;34m.\u001b[0m\u001b[0m_getitem_frame\u001b[0m\u001b[0;34m(\u001b[0m\u001b[0mkey\u001b[0m\u001b[0;34m)\u001b[0m\u001b[0;34m\u001b[0m\u001b[0m\n",
      "\u001b[0;32m~/anaconda3/lib/python3.6/site-packages/pandas/core/frame.py\u001b[0m in \u001b[0;36m_getitem_array\u001b[0;34m(self, key)\u001b[0m\n\u001b[1;32m   2175\u001b[0m             \u001b[0;32mreturn\u001b[0m \u001b[0mself\u001b[0m\u001b[0;34m.\u001b[0m\u001b[0m_take\u001b[0m\u001b[0;34m(\u001b[0m\u001b[0mindexer\u001b[0m\u001b[0;34m,\u001b[0m \u001b[0maxis\u001b[0m\u001b[0;34m=\u001b[0m\u001b[0;36m0\u001b[0m\u001b[0;34m,\u001b[0m \u001b[0mconvert\u001b[0m\u001b[0;34m=\u001b[0m\u001b[0;32mFalse\u001b[0m\u001b[0;34m)\u001b[0m\u001b[0;34m\u001b[0m\u001b[0m\n\u001b[1;32m   2176\u001b[0m         \u001b[0;32melse\u001b[0m\u001b[0;34m:\u001b[0m\u001b[0;34m\u001b[0m\u001b[0m\n\u001b[0;32m-> 2177\u001b[0;31m             \u001b[0mindexer\u001b[0m \u001b[0;34m=\u001b[0m \u001b[0mself\u001b[0m\u001b[0;34m.\u001b[0m\u001b[0mloc\u001b[0m\u001b[0;34m.\u001b[0m\u001b[0m_convert_to_indexer\u001b[0m\u001b[0;34m(\u001b[0m\u001b[0mkey\u001b[0m\u001b[0;34m,\u001b[0m \u001b[0maxis\u001b[0m\u001b[0;34m=\u001b[0m\u001b[0;36m1\u001b[0m\u001b[0;34m)\u001b[0m\u001b[0;34m\u001b[0m\u001b[0m\n\u001b[0m\u001b[1;32m   2178\u001b[0m             \u001b[0;32mreturn\u001b[0m \u001b[0mself\u001b[0m\u001b[0;34m.\u001b[0m\u001b[0m_take\u001b[0m\u001b[0;34m(\u001b[0m\u001b[0mindexer\u001b[0m\u001b[0;34m,\u001b[0m \u001b[0maxis\u001b[0m\u001b[0;34m=\u001b[0m\u001b[0;36m1\u001b[0m\u001b[0;34m,\u001b[0m \u001b[0mconvert\u001b[0m\u001b[0;34m=\u001b[0m\u001b[0;32mTrue\u001b[0m\u001b[0;34m)\u001b[0m\u001b[0;34m\u001b[0m\u001b[0m\n\u001b[1;32m   2179\u001b[0m \u001b[0;34m\u001b[0m\u001b[0m\n",
      "\u001b[0;32m~/anaconda3/lib/python3.6/site-packages/pandas/core/indexing.py\u001b[0m in \u001b[0;36m_convert_to_indexer\u001b[0;34m(self, obj, axis, is_setter)\u001b[0m\n\u001b[1;32m   1267\u001b[0m                 \u001b[0;32mif\u001b[0m \u001b[0mmask\u001b[0m\u001b[0;34m.\u001b[0m\u001b[0many\u001b[0m\u001b[0;34m(\u001b[0m\u001b[0;34m)\u001b[0m\u001b[0;34m:\u001b[0m\u001b[0;34m\u001b[0m\u001b[0m\n\u001b[1;32m   1268\u001b[0m                     raise KeyError('{mask} not in index'\n\u001b[0;32m-> 1269\u001b[0;31m                                    .format(mask=objarr[mask]))\n\u001b[0m\u001b[1;32m   1270\u001b[0m \u001b[0;34m\u001b[0m\u001b[0m\n\u001b[1;32m   1271\u001b[0m                 \u001b[0;32mreturn\u001b[0m \u001b[0m_values_from_object\u001b[0m\u001b[0;34m(\u001b[0m\u001b[0mindexer\u001b[0m\u001b[0;34m)\u001b[0m\u001b[0;34m\u001b[0m\u001b[0m\n",
      "\u001b[0;31mKeyError\u001b[0m: \"['INSUL'] not in index\""
     ]
    }
   ],
   "source": [
    "x_new = x[['TAAV','RH','INSUL']]"
   ]
  },
  {
   "cell_type": "code",
   "execution_count": null,
   "metadata": {
    "collapsed": true
   },
   "outputs": [],
   "source": [
    "lili_new = pd.read_csv('lili_feature.csv', sep=',',engine='python')"
   ]
  },
  {
   "cell_type": "code",
   "execution_count": null,
   "metadata": {
    "collapsed": true
   },
   "outputs": [],
   "source": [
    "lili = lili_new[['temperature','humidity','clo','sensation']]\n",
    "lili_y = lili['sensation']\n",
    "lili_x = lili[['temperature','humidity','clo']]"
   ]
  },
  {
   "cell_type": "code",
   "execution_count": null,
   "metadata": {
    "collapsed": true
   },
   "outputs": [],
   "source": [
    "from sklearn.neighbors import KNeighborsClassifier\n",
    "from sklearn.model_selection import KFold, cross_val_score\n",
    "from sklearn.model_selection import cross_val_predict\n",
    "from sklearn import metrics\n",
    "from sklearn.model_selection import train_test_split"
   ]
  },
  {
   "cell_type": "code",
   "execution_count": null,
   "metadata": {
    "collapsed": true
   },
   "outputs": [],
   "source": [
    "x= x[['TAAV','RH','INSUL']]\n",
    "x0 = x0[['TAAV','RH','INSUL']]\n",
    "x1 = x1[['TAAV','RH','INSUL']]\n",
    "x2 = x2[['TAAV','RH','INSUL']]\n",
    "x3 = x3[['TAAV','RH','INSUL']]\n",
    "best = 0\n",
    "for i in range(30):\n",
    "    knn = KNeighborsClassifier(n_neighbors=i+1)\n",
    "    score = cross_val_score(knn, x, y, cv=5).mean()\n",
    "    if score > best:\n",
    "        best = score\n",
    "    best_k = i+1 \n",
    "    \n",
    "best_k\n",
    "# best k could be 30 but it seems the larger the k is, the better"
   ]
  },
  {
   "cell_type": "code",
   "execution_count": null,
   "metadata": {
    "collapsed": true
   },
   "outputs": [],
   "source": [
    "knn.fit(x, y) \n",
    "# evaluation with rp884 training data\n",
    "#predicted = cross_val_predict(knn, x, y, cv=5)\n",
    "predicted = knn.predict(x)\n",
    "test_score = metrics.accuracy_score(y, predicted) \n",
    "# test with experimental data\n",
    "predicted = knn.predict(lili_x)\n",
    "test = metrics.accuracy_score(lili_y, predicted)"
   ]
  },
  {
   "cell_type": "code",
   "execution_count": null,
   "metadata": {
    "collapsed": true
   },
   "outputs": [],
   "source": [
    "predicted"
   ]
  },
  {
   "cell_type": "code",
   "execution_count": null,
   "metadata": {
    "collapsed": true
   },
   "outputs": [],
   "source": [
    "diff = test_score - test\n",
    "diff"
   ]
  },
  {
   "cell_type": "code",
   "execution_count": null,
   "metadata": {
    "collapsed": true
   },
   "outputs": [],
   "source": [
    "clf = svm.SVC(kernel='rbf',gamma=0.1,C=1)\n",
    "clf = RandomForestClassifier(n_estimators=50, max_depth = 3, random_state=0)"
   ]
  },
  {
   "cell_type": "code",
   "execution_count": null,
   "metadata": {
    "collapsed": true
   },
   "outputs": [],
   "source": [
    "clf.fit(x,y)"
   ]
  },
  {
   "cell_type": "code",
   "execution_count": null,
   "metadata": {
    "collapsed": true
   },
   "outputs": [],
   "source": [
    "predicted = clf.predict(x)\n",
    "test_score = metrics.accuracy_score(y, predicted) \n",
    "predicted = clf.predict(lili_x)\n",
    "test = metrics.accuracy_score(lili_y, predicted)"
   ]
  },
  {
   "cell_type": "code",
   "execution_count": null,
   "metadata": {
    "collapsed": true
   },
   "outputs": [],
   "source": [
    "diff = test_score - test\n",
    "diff"
   ]
  },
  {
   "cell_type": "code",
   "execution_count": null,
   "metadata": {
    "collapsed": true
   },
   "outputs": [],
   "source": [
    "test"
   ]
  },
  {
   "cell_type": "code",
   "execution_count": null,
   "metadata": {
    "collapsed": true
   },
   "outputs": [],
   "source": [
    "predicted"
   ]
  },
  {
   "cell_type": "code",
   "execution_count": null,
   "metadata": {
    "collapsed": true
   },
   "outputs": [],
   "source": [
    "np.logspace(-1, 0, 5)"
   ]
  },
  {
   "cell_type": "code",
   "execution_count": null,
   "metadata": {
    "collapsed": true
   },
   "outputs": [],
   "source": []
  }
 ],
 "metadata": {
  "kernelspec": {
   "display_name": "Python 3",
   "language": "python",
   "name": "python3"
  },
  "language_info": {
   "codemirror_mode": {
    "name": "ipython",
    "version": 3
   },
   "file_extension": ".py",
   "mimetype": "text/x-python",
   "name": "python",
   "nbconvert_exporter": "python",
   "pygments_lexer": "ipython3",
   "version": "3.6.3"
  }
 },
 "nbformat": 4,
 "nbformat_minor": 2
}
