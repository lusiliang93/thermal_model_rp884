{
 "cells": [
  {
   "cell_type": "code",
   "execution_count": 1,
   "metadata": {
    "collapsed": true
   },
   "outputs": [],
   "source": [
    "import numpy as np\n",
    "import pickle"
   ]
  },
  {
   "cell_type": "code",
   "execution_count": 2,
   "metadata": {},
   "outputs": [
    {
     "data": {
      "text/plain": [
       "array([0.])"
      ]
     },
     "execution_count": 2,
     "metadata": {},
     "output_type": "execute_result"
    }
   ],
   "source": [
    "load_model = pickle.load(open('dt.sav','rb'))\n",
    "test = np.array([[0.784,25,61,27.55,81.55,1.00]])\n",
    "pred = load_model.predict(test)\n",
    "pred"
   ]
  },
  {
   "cell_type": "code",
   "execution_count": 3,
   "metadata": {
    "collapsed": true
   },
   "outputs": [],
   "source": [
    "# if sensation == -3, then increase temperature 2C\n",
    "# if sensation == -2, then increase temperature 1C\n",
    "# if sensation == 3, then decrease temperature 2C"
   ]
  },
  {
   "cell_type": "code",
   "execution_count": 4,
   "metadata": {},
   "outputs": [
    {
     "name": "stdout",
     "output_type": "stream",
     "text": [
      "[-3.]\n",
      "[-3.]\n",
      "[-3.]\n"
     ]
    },
    {
     "data": {
      "text/plain": [
       "21"
      ]
     },
     "execution_count": 4,
     "metadata": {},
     "output_type": "execute_result"
    }
   ],
   "source": [
    "#x = data_new[['INSUL','TAAV','RH','dayav_ta','dayav_rh','MET']]\n",
    "temp = 15\n",
    "test = np.array([[0.784,temp,61,27.55,81.55,1.00]])\n",
    "pred = load_model.predict(test)\n",
    "\n",
    "while pred != 0:\n",
    "    print(pred)\n",
    "    if pred == -3:\n",
    "        temp += 2\n",
    "    elif pred == -2:\n",
    "        temp += 1\n",
    "    elif pred == -1:\n",
    "        temp += 0.5\n",
    "    elif pred == 1:\n",
    "        temp += -0.5\n",
    "    elif pred == 2:\n",
    "        temp += -1\n",
    "    elif pred == 3:\n",
    "        temp += -2\n",
    "    test[0][1] = temp\n",
    "    pred = load_model.predict(test)\n",
    "temp"
   ]
  },
  {
   "cell_type": "code",
   "execution_count": null,
   "metadata": {
    "collapsed": true
   },
   "outputs": [],
   "source": []
  }
 ],
 "metadata": {
  "kernelspec": {
   "display_name": "Python 3",
   "language": "python",
   "name": "python3"
  },
  "language_info": {
   "codemirror_mode": {
    "name": "ipython",
    "version": 3
   },
   "file_extension": ".py",
   "mimetype": "text/x-python",
   "name": "python",
   "nbconvert_exporter": "python",
   "pygments_lexer": "ipython3",
   "version": "3.6.3"
  }
 },
 "nbformat": 4,
 "nbformat_minor": 2
}
