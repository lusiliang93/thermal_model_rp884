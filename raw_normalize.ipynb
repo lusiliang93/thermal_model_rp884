{
 "cells": [
  {
   "cell_type": "markdown",
   "metadata": {},
   "source": [
    "# Import one dataset"
   ]
  },
  {
   "cell_type": "code",
   "execution_count": 75,
   "metadata": {},
   "outputs": [],
   "source": [
    "import pandas as pd\n",
    "import numpy as np\n",
    "import glob\n",
    "import matplotlib.pyplot as plt\n",
    "import seaborn as sns\n",
    "sns.set(color_codes=True)\n"
   ]
  },
  {
   "cell_type": "code",
   "execution_count": 2,
   "metadata": {},
   "outputs": [],
   "source": [
    "column_names = ['BLCODE',\n",
    " 'SUB',\n",
    " 'AGE',\n",
    " 'SEX',\n",
    " 'YEAR',\n",
    " 'DAY',\n",
    " 'TIME',\n",
    " 'ASH',\n",
    " 'PRXY_TSA',\n",
    " 'TSA',\n",
    " 'MCI',\n",
    " 'VENT',\n",
    " 'AVM',\n",
    " 'COMF',\n",
    " 'ACT10',\n",
    " 'ACT20',\n",
    " 'ACT30',\n",
    " 'ACT60',\n",
    " 'MET',\n",
    " 'CLO',\n",
    " 'UPHOLST',\n",
    " 'INSUL',\n",
    " 'TA_H',\n",
    " 'TA_M',\n",
    " 'TA_L',\n",
    " 'DEWPT',\n",
    " 'PRTA-B',\n",
    " 'TG_H',\n",
    " 'TG_M',\n",
    " 'TG_L',\n",
    " 'VEL_H',\n",
    " 'VEL_M',\n",
    " 'VEL_L',\n",
    " 'TURB_H',\n",
    " 'TURB_M',\n",
    " 'TURB_L',\n",
    " 'TAAV',\n",
    " 'TRAV',\n",
    " 'TOP',\n",
    " 'VELAV',\n",
    " 'VELMAX',\n",
    " 'TUAV',\n",
    " 'PA',\n",
    " 'RH',\n",
    " 'ET',\n",
    " 'SET',\n",
    " 'TSENS',\n",
    " 'DISC',\n",
    " 'PMV',\n",
    " 'PPD',\n",
    " 'PD_H',\n",
    " 'PD_M',\n",
    " 'PD_L',\n",
    " 'PD_MAX',\n",
    " 'PCC',\n",
    " 'PCC_AG',\n",
    " 'PCS',\n",
    " 'PCEC1',\n",
    " 'PCEC2',\n",
    " 'PCEC3',\n",
    " 'PCEC4',\n",
    " 'PCEC5',\n",
    " 'PCEC6',\n",
    " 'PCEC7',\n",
    " 'PCED1',\n",
    " 'PCED2',\n",
    " 'PCED3',\n",
    " 'PCED4',\n",
    " 'PCED5',\n",
    " 'PCED6',\n",
    " 'PCED7',\n",
    " 'day15_ta',\n",
    " 'day06_ta',\n",
    " 'dayav_ta',\n",
    " 'day15_rh',\n",
    " 'day06_rh',\n",
    " 'dayav_rh',\n",
    " 'day15_et',\n",
    " 'day06_et',\n",
    " 'dayav_et']"
   ]
  },
  {
   "cell_type": "code",
   "execution_count": null,
   "metadata": {},
   "outputs": [],
   "source": [
    "data = pd.read_csv('8_EXL.csv', sep=',', skiprows=6, skipfooter=4, engine='python', usecols=[i for i in range(80)], header=None, names=column_names)"
   ]
  },
  {
   "cell_type": "code",
   "execution_count": null,
   "metadata": {},
   "outputs": [],
   "source": [
    "# data[columns_to_normalize] = data.replace('.', np.nan)[columns_to_normalize].apply(lambda x:(x-x.mean())/x.std())\n",
    "data.replace('.', np.nan)['ACT10'].astype(float).mean()"
   ]
  },
  {
   "cell_type": "markdown",
   "metadata": {},
   "source": [
    "# Import all samples"
   ]
  },
  {
   "cell_type": "code",
   "execution_count": 10,
   "metadata": {},
   "outputs": [],
   "source": [
    "datasets = []\n",
    "for datafile in glob.glob('*_EXL.csv'):\n",
    "    datasets.append(pd.read_csv(datafile, sep=',', skiprows=6, skipfooter=4, engine='python', usecols=[i for i in range(80)], header=None, names=column_names))\n",
    "    \n",
    "data_all = pd.concat(datasets)\n",
    "select = data_all.apply(lambda r: any(['DIV' in str(e) or 'ACT10' in str(e) for e in r]),axis=1)"
   ]
  },
  {
   "cell_type": "code",
   "execution_count": 60,
   "metadata": {},
   "outputs": [],
   "source": [
    "data_raw = data_all[~select].replace('.', np.nan).copy()\n",
    "# strmap = {'1':1, '2':2, '3':3, '4':4, '5':5, '6':6, '7':7, '8':8, '9':9, '0':0}pd.to_numeric(df.ID, errors='coerce')\n",
    "# data_raw.appl(float)\n",
    "\n",
    "data_raw['MCI'] = pd.to_numeric(data_raw['MCI'], errors='coerce')\n",
    "data_raw['ASH'] = pd.to_numeric(data_raw['ASH'], errors='coerce')\n",
    "data_raw['TAAV'] = pd.to_numeric(data_raw['TAAV'], errors='coerce')\n",
    "data_raw.to_csv('raw.csv')"
   ]
  },
  {
   "cell_type": "markdown",
   "metadata": {},
   "source": [
    "# Normalize"
   ]
  },
  {
   "cell_type": "code",
   "execution_count": 12,
   "metadata": {},
   "outputs": [],
   "source": [
    "columns_to_normalize = ['ACT10', 'ACT20', 'ACT30', 'ACT60', 'MET', 'CLO', 'UPHOLST', 'INSUL', 'TA_H', 'TA_M', 'TA_L', 'DEWPT', 'TG_M', 'VEL_M', 'TAAV', 'TRAV', 'TOP', 'VELAV', 'PA', 'RH', 'ET', 'SET', 'TSENS', 'DISC', 'PMV', 'PPD', 'PD_M', 'PD_MAX', 'PCC_AG', 'PCEC1', 'PCEC4', 'PCEC5', 'PCEC7', 'day15_ta', 'day06_ta', 'day15_rh', 'day06_rh', 'dayav_rh', 'day15_et', 'day06_et', 'dayav_et']\n",
    "                             \n",
    "clean_data = data_raw\n",
    "\n",
    "# mean and sigma normalize\n",
    "true_data = clean_data.copy()\n",
    "true_data[columns_to_normalize] = true_data.loc[:,columns_to_normalize].apply(lambda x:(x.astype(float)-x.astype(float).mean())/x.astype(float).std())\n",
    "true_data.to_csv('normalized_sigma.csv')\n",
    "\n",
    "# mean and max - min normalize\n",
    "maxmin_data = clean_data.copy()\n",
    "maxmin_data[columns_to_normalize] = maxmin_data.loc[:,columns_to_normalize].apply(lambda x:(x.astype(float)-x.astype(float).min())/(x.astype(float).max()-x.astype(float).min()))\n",
    "maxmin_data.to_csv('normalized_minmax.csv')"
   ]
  },
  {
   "cell_type": "code",
   "execution_count": 74,
   "metadata": {},
   "outputs": [
    {
     "data": {
      "text/plain": [
       "(5776, 80)"
      ]
     },
     "execution_count": 74,
     "metadata": {},
     "output_type": "execute_result"
    }
   ],
   "source": [
    "data_raw.shape"
   ]
  },
  {
   "cell_type": "code",
   "execution_count": 105,
   "metadata": {},
   "outputs": [
    {
     "data": {
      "text/plain": [
       "<matplotlib.axes._subplots.AxesSubplot at 0x10e9d3400>"
      ]
     },
     "execution_count": 105,
     "metadata": {},
     "output_type": "execute_result"
    },
    {
     "data": {
      "image/png": "[encoded data removed]",
      "text/plain": [
       "<matplotlib.figure.Figure at 0x10e9d6320>"
      ]
     },
     "metadata": {},
     "output_type": "display_data"
    }
   ],
   "source": [
    "temp_mci_mean = [0, 0, 0,0]\n",
    "temp_mci_var = [0,0,0,0]\n",
    "for mci in [0,1,2,3]:\n",
    "    temp_mci_mean[mci] = data_raw[data_raw['MCI']==mci]['TAAV'].mean()\n",
    "    temp_mci_var[mci] = data_raw[data_raw['MCI']==mci]['TAAV'].var()\n",
    "    \n",
    "temp_mci_mean\n",
    "temp_mci_var\n",
    "temp_mci_mean\n",
    "\n",
    "# sns.set(style=\"whitegrid\", color_codes=True)\n",
    "x = data_raw[data_raw['MCI'] != np.nan].MCI\n",
    "y = data_raw[data_raw['MCI'] != np.nan].TAAV\n",
    "sns.stripplot(x=x, y=y)\n",
    "\n",
    "sns.boxplot(x,y)"
   ]
  },
  {
   "cell_type": "code",
   "execution_count": 89,
   "metadata": {},
   "outputs": [
    {
     "data": {
      "text/plain": [
       "<matplotlib.axes._subplots.AxesSubplot at 0x1106d2f98>"
      ]
     },
     "execution_count": 89,
     "metadata": {},
     "output_type": "execute_result"
    },
    {
     "data": {
      "image/png": "[encoded data removed]",
      "text/plain": [
       "<matplotlib.figure.Figure at 0x1106acf98>"
      ]
     },
     "metadata": {},
     "output_type": "display_data"
    }
   ],
   "source": [
    "x = data_raw[data_raw['MCI'] != np.nan].MCI\n",
    "y = data_raw[data_raw['MCI'] != np.nan].RH\n",
    "sns.stripplot(x=x, y=y)"
   ]
  },
  {
   "cell_type": "code",
   "execution_count": 1,
   "metadata": {},
   "outputs": [
    {
     "ename": "NameError",
     "evalue": "name 'data_raw' is not defined",
     "output_type": "error",
     "traceback": [
      "\u001b[0;31m---------------------------------------------------------------------------\u001b[0m",
      "\u001b[0;31mNameError\u001b[0m                                 Traceback (most recent call last)",
      "\u001b[0;32m<ipython-input-1-b353216de08f>\u001b[0m in \u001b[0;36m<module>\u001b[0;34m()\u001b[0m\n\u001b[0;32m----> 1\u001b[0;31m \u001b[0mx\u001b[0m \u001b[0;34m=\u001b[0m \u001b[0mdata_raw\u001b[0m\u001b[0;34m[\u001b[0m\u001b[0;34m(\u001b[0m\u001b[0mdata_raw\u001b[0m\u001b[0;34m[\u001b[0m\u001b[0;34m'MCI'\u001b[0m\u001b[0;34m]\u001b[0m \u001b[0;34m!=\u001b[0m \u001b[0mnp\u001b[0m\u001b[0;34m.\u001b[0m\u001b[0mnan\u001b[0m\u001b[0;34m)\u001b[0m \u001b[0;34m&\u001b[0m \u001b[0;34m(\u001b[0m\u001b[0;36m23\u001b[0m\u001b[0;34m<=\u001b[0m\u001b[0mdata_raw\u001b[0m\u001b[0;34m[\u001b[0m\u001b[0;34m'TAAV'\u001b[0m\u001b[0;34m]\u001b[0m\u001b[0;34m<=\u001b[0m\u001b[0;36m24\u001b[0m\u001b[0;34m)\u001b[0m\u001b[0;34m]\u001b[0m\u001b[0;34m.\u001b[0m\u001b[0mMCI\u001b[0m\u001b[0;34m\u001b[0m\u001b[0m\n\u001b[0m\u001b[1;32m      2\u001b[0m \u001b[0my\u001b[0m \u001b[0;34m=\u001b[0m \u001b[0mdata_raw\u001b[0m\u001b[0;34m[\u001b[0m\u001b[0;34m(\u001b[0m\u001b[0mdata_raw\u001b[0m\u001b[0;34m[\u001b[0m\u001b[0;34m'MCI'\u001b[0m\u001b[0;34m]\u001b[0m \u001b[0;34m!=\u001b[0m \u001b[0mnp\u001b[0m\u001b[0;34m.\u001b[0m\u001b[0mnan\u001b[0m\u001b[0;34m)\u001b[0m \u001b[0;34m&\u001b[0m \u001b[0;34m(\u001b[0m\u001b[0;36m23\u001b[0m\u001b[0;34m<=\u001b[0m\u001b[0mdata_raw\u001b[0m\u001b[0;34m[\u001b[0m\u001b[0;34m'TAAV'\u001b[0m\u001b[0;34m]\u001b[0m\u001b[0;34m<=\u001b[0m\u001b[0;36m24\u001b[0m\u001b[0;34m)\u001b[0m\u001b[0;34m]\u001b[0m\u001b[0;34m.\u001b[0m\u001b[0mTAAV\u001b[0m\u001b[0;34m\u001b[0m\u001b[0m\n\u001b[1;32m      3\u001b[0m \u001b[0msns\u001b[0m\u001b[0;34m.\u001b[0m\u001b[0mstripplot\u001b[0m\u001b[0;34m(\u001b[0m\u001b[0mx\u001b[0m\u001b[0;34m=\u001b[0m\u001b[0mx\u001b[0m\u001b[0;34m,\u001b[0m \u001b[0my\u001b[0m\u001b[0;34m=\u001b[0m\u001b[0my\u001b[0m\u001b[0;34m)\u001b[0m\u001b[0;34m\u001b[0m\u001b[0m\n",
      "\u001b[0;31mNameError\u001b[0m: name 'data_raw' is not defined"
     ]
    }
   ],
   "source": [
    "x = data_raw[(data_raw['MCI'] != np.nan) & (23<=data_raw['TAAV']<=24)].MCI\n",
    "y = data_raw[(data_raw['MCI'] != np.nan) & (23<=data_raw['TAAV']<=24)].TAAV\n",
    "sns.stripplot(x=x, y=y)\n"
   ]
  },
  {
   "cell_type": "code",
   "execution_count": 120,
   "metadata": {},
   "outputs": [
    {
     "data": {
      "text/plain": [
       "<matplotlib.axes._subplots.AxesSubplot at 0x1108a2978>"
      ]
     },
     "execution_count": 120,
     "metadata": {},
     "output_type": "execute_result"
    },
    {
     "data": {
      "image/png": "[encoded data removed]",
      "text/plain": [
       "<matplotlib.figure.Figure at 0x11089a080>"
      ]
     },
     "metadata": {},
     "output_type": "display_data"
    }
   ],
   "source": [
    "nan = np.NaN\n",
    "x = data_raw.query('MCI != @nan and 26<=TAAV<=27').MCI\n",
    "y = data_raw.query('MCI != @nan and 26<=TAAV<=27').TAAV\n",
    "sns.countplot(x.dropna())\n"
   ]
  }
 ],
 "metadata": {
  "kernelspec": {
   "display_name": "Python 3",
   "language": "python",
   "name": "python3"
  },
  "language_info": {
   "codemirror_mode": {
    "name": "ipython",
    "version": 3
   },
   "file_extension": ".py",
   "mimetype": "text/x-python",
   "name": "python",
   "nbconvert_exporter": "python",
   "pygments_lexer": "ipython3",
   "version": "3.6.4"
  }
 },
 "nbformat": 4,
 "nbformat_minor": 2
}
