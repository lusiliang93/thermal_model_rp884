{
 "cells": [
  {
   "cell_type": "code",
   "execution_count": 3,
   "metadata": {
    "collapsed": true
   },
   "outputs": [],
   "source": [
    "import pandas as pd\n",
    "import numpy as np\n",
    "from sklearn import cluster, datasets, mixture\n",
    "from sklearn.decomposition import PCA, KernelPCA"
   ]
  },
  {
   "cell_type": "code",
   "execution_count": 4,
   "metadata": {
    "collapsed": true
   },
   "outputs": [],
   "source": [
    "data_new = pd.read_csv('raw_new.csv', sep=',',engine='python')\n",
    "x = data_new[['INSUL','TAAV','RH','dayav_ta','dayav_rh']]\n",
    "y = data_new['ASH']"
   ]
  },
  {
   "cell_type": "code",
   "execution_count": 5,
   "metadata": {
    "collapsed": true
   },
   "outputs": [],
   "source": [
    "kpca = KernelPCA(kernel=\"rbf\", fit_inverse_transform=True, gamma=10)\n",
    "x_kpca = kpca.fit_transform(x)"
   ]
  },
  {
   "cell_type": "code",
   "execution_count": 6,
   "metadata": {},
   "outputs": [
    {
     "data": {
      "text/plain": [
       "array([[  9.22048516e-03,   2.01745111e-08,   1.08549447e-02, ...,\n",
       "         -4.43994745e-10,   5.51649259e-11,   1.99614277e-10],\n",
       "       [  9.39508638e-03,   2.06525770e-08,   1.11065107e-02, ...,\n",
       "         -1.27949081e-10,  -1.17069939e-09,   4.58900029e-10],\n",
       "       [  9.39508638e-03,   2.06525764e-08,   1.11065107e-02, ...,\n",
       "         -5.99060933e-10,   9.51259916e-10,   5.74144977e-11],\n",
       "       ..., \n",
       "       [  6.62452830e-03,   1.31993761e-08,   6.96951668e-03, ...,\n",
       "         -2.86190648e-12,  -1.67530170e-11,  -8.64653657e-12],\n",
       "       [  6.70575398e-03,   1.33937948e-08,   7.07301878e-03, ...,\n",
       "         -2.86190648e-12,  -1.67530170e-11,  -8.64653657e-12],\n",
       "       [  5.83841665e-03,   1.12977832e-08,   5.95664041e-03, ...,\n",
       "         -2.86190648e-12,  -1.67530170e-11,  -8.64653657e-12]])"
      ]
     },
     "execution_count": 6,
     "metadata": {},
     "output_type": "execute_result"
    }
   ],
   "source": [
    "x_kpca"
   ]
  }
 ],
 "metadata": {
  "kernelspec": {
   "display_name": "Python 3",
   "language": "python",
   "name": "python3"
  },
  "language_info": {
   "codemirror_mode": {
    "name": "ipython",
    "version": 3
   },
   "file_extension": ".py",
   "mimetype": "text/x-python",
   "name": "python",
   "nbconvert_exporter": "python",
   "pygments_lexer": "ipython3",
   "version": "3.6.3"
  }
 },
 "nbformat": 4,
 "nbformat_minor": 2
}
