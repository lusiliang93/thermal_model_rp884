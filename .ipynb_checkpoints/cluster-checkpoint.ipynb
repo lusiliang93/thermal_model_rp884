{
 "cells": [
  {
   "cell_type": "code",
   "execution_count": 1,
   "metadata": {
    "collapsed": true
   },
   "outputs": [],
   "source": [
    "%matplotlib inline\n",
    "import matplotlib.pyplot as plt\n",
    "import pandas as pd\n",
    "import numpy as np\n",
    "from sklearn import cluster, datasets, mixture\n",
    "from sklearn.decomposition import PCA, KernelPCA\n",
    "from sklearn.ensemble import RandomForestClassifier\n",
    "import itertools\n",
    "from sklearn import svm\n",
    "from sklearn.preprocessing import StandardScaler"
   ]
  },
  {
   "cell_type": "code",
   "execution_count": 16,
   "metadata": {},
   "outputs": [
    {
     "name": "stdout",
     "output_type": "stream",
     "text": [
      "3758\n"
     ]
    }
   ],
   "source": [
    "data_new = pd.read_csv('raw_new.csv', sep=',',engine='python')\n",
    "#x = data_new[['INSUL','TAAV','RH','dayav_ta','dayav_rh','MET']]\n",
    "#x = data_new[['INSUL','TAAV','RH']]\n",
    "x = data_new[['TAAV','RH']]\n",
    "#normalize\n",
    "# scaler = StandardScaler()\n",
    "# x = scaler.fit_transform(x)\n",
    "# raw y without rounding \n",
    "y = data_new['ASH']\n",
    "y = y.round().astype(int)\n",
    "print(len(y))"
   ]
  },
  {
   "cell_type": "code",
   "execution_count": 20,
   "metadata": {},
   "outputs": [
    {
     "data": {
      "image/png": "[encoded data removed]",
      "text/plain": [
       "<Figure size 432x288 with 1 Axes>"
      ]
     },
     "metadata": {},
     "output_type": "display_data"
    },
    {
     "name": "stdout",
     "output_type": "stream",
     "text": [
      "[6014.17760058 6033.11057971 5998.24707426 5984.82808972 6001.73671832\n",
      " 6031.46512607 6038.88013582 6053.48276648 6101.37845634 6076.98861474\n",
      " 6247.29545967 6108.71443177 6249.31038435 6185.75328291 6291.42879693\n",
      " 6297.32872688 6365.83492678 6354.40293876 6433.22278634]\n"
     ]
    },
    {
     "data": {
      "text/plain": [
       "4"
      ]
     },
     "execution_count": 20,
     "metadata": {},
     "output_type": "execute_result"
    }
   ],
   "source": [
    "lowest_bic = np.infty\n",
    "# it seems to converge to local??? \n",
    "n_components_range = range(1, 20)\n",
    "#cv_types = ['spherical', 'tied', 'diag', 'full']\n",
    "cv_types = ['full']\n",
    "i = 0\n",
    "for cv_type in cv_types:\n",
    "    bic = []\n",
    "    i += 1\n",
    "    for n_components in n_components_range:\n",
    "        # Fit a Gaussian mixture with EM\n",
    "        gmm = mixture.GaussianMixture(n_components=n_components,\n",
    "                                      covariance_type=cv_type)\n",
    "        gmm.fit(x)\n",
    "        bic.append(gmm.bic(x))\n",
    "        if bic[-1] < lowest_bic:\n",
    "            lowest_bic = bic[-1]\n",
    "            best_gmm = gmm\n",
    "            best_n = n_components\n",
    "    bic = np.array(bic)\n",
    "    plt.subplot(2,2,i)\n",
    "    plt.scatter(range(len(bic)),bic,s=5)\n",
    "    plt.show()\n",
    "        \n",
    "# color_iter = itertools.cycle(['navy', 'turquoise', 'cornflowerblue',\n",
    "#                               'darkorange'])\n",
    "gmm = best_gmm\n",
    "print(bic)\n",
    "best_n"
   ]
  },
  {
   "cell_type": "code",
   "execution_count": 17,
   "metadata": {
    "collapsed": true
   },
   "outputs": [],
   "source": [
    "gmm = mixture.GaussianMixture(n_components=4, covariance_type='full')"
   ]
  },
  {
   "cell_type": "code",
   "execution_count": 18,
   "metadata": {},
   "outputs": [
    {
     "data": {
      "text/plain": [
       "array([0, 1, 2, 3])"
      ]
     },
     "execution_count": 18,
     "metadata": {},
     "output_type": "execute_result"
    }
   ],
   "source": [
    "gmm.fit(x)\n",
    "#gmm.fit(z)\n",
    "# testing should be different from training!!!\n",
    "cluster = gmm.predict(x)\n",
    "#cluster = gmm.predict(z)\n",
    "np.unique(cluster)"
   ]
  },
  {
   "cell_type": "code",
   "execution_count": 23,
   "metadata": {
    "collapsed": true
   },
   "outputs": [],
   "source": [
    "import pickle\n",
    "filename = 'gmm_model.sav'\n",
    "# python3\n",
    "pickle.dump(gmm,open(filename,'wb'))"
   ]
  },
  {
   "cell_type": "code",
   "execution_count": 24,
   "metadata": {},
   "outputs": [
    {
     "data": {
      "text/plain": [
       "array([1])"
      ]
     },
     "execution_count": 24,
     "metadata": {},
     "output_type": "execute_result"
    }
   ],
   "source": [
    "load_model = pickle.load(open(filename,'rb'))\n",
    "test = [0.7,35,80]\n",
    "pred = load_model.predict(np.array(test).reshape(1,-1))\n",
    "pred"
   ]
  },
  {
   "cell_type": "code",
   "execution_count": 19,
   "metadata": {},
   "outputs": [
    {
     "data": {
      "text/plain": [
       "Text(0, 0.5, 'Relative humidity')"
      ]
     },
     "execution_count": 19,
     "metadata": {},
     "output_type": "execute_result"
    },
    {
     "data": {
      "image/png": "[encoded data removed]",
      "text/plain": [
       "<Figure size 432x288 with 1 Axes>"
      ]
     },
     "metadata": {},
     "output_type": "display_data"
    }
   ],
   "source": [
    "LABEL_COLOR_MAP = {0 : 'r',\n",
    "                   1 : 'orange',\n",
    "                   2 : 'g',\n",
    "                   3 : 'purple'\n",
    "                   }\n",
    "#labels = ['0','1','2','3']\n",
    "label_color = [LABEL_COLOR_MAP[l] for l in cluster]\n",
    "plt.scatter(x['TAAV'],x['RH'],c=label_color,s=10,cmap='viridis')\n",
    "plt.xlabel(\"Temperature\")\n",
    "plt.ylabel(\"Relative humidity\")"
   ]
  },
  {
   "cell_type": "code",
   "execution_count": 82,
   "metadata": {},
   "outputs": [
    {
     "data": {
      "text/plain": [
       "'\\n# normalize x\\nscaler = StandardScaler()\\nnormx = scaler.fit_transform(x)\\ngmm = mixture.GaussianMixture(n_components=4, covariance_type=\\'diag\\')\\ngmm.fit(normx)\\n# testing should be different from training!!!\\ncluster = gmm.predict(normx)\\nnp.unique(cluster)\\nLABEL_COLOR_MAP = {0 : \\'r\\',\\n                   1 : \\'orange\\',\\n                   2 : \\'g\\',\\n                   3 : \\'purple\\'\\n                   }\\nlabels = [\\'0\\',\\'1\\',\\'2\\',\\'3\\']\\nlabel_color = [LABEL_COLOR_MAP[l] for l in cluster]\\nplt.scatter(x[\\'TAAV\\'],x[\\'RH\\'],c=label_color,s=10,cmap=\\'viridis\\')\\nplt.xlabel(\"Temperature\")\\nplt.ylabel(\"Relative humidity\")\\n'"
      ]
     },
     "execution_count": 82,
     "metadata": {},
     "output_type": "execute_result"
    }
   ],
   "source": [
    "'''\n",
    "# normalize x\n",
    "scaler = StandardScaler()\n",
    "normx = scaler.fit_transform(x)\n",
    "gmm = mixture.GaussianMixture(n_components=4, covariance_type='diag')\n",
    "gmm.fit(normx)\n",
    "# testing should be different from training!!!\n",
    "cluster = gmm.predict(normx)\n",
    "np.unique(cluster)\n",
    "LABEL_COLOR_MAP = {0 : 'r',\n",
    "                   1 : 'orange',\n",
    "                   2 : 'g',\n",
    "                   3 : 'purple'\n",
    "                   }\n",
    "labels = ['0','1','2','3']\n",
    "label_color = [LABEL_COLOR_MAP[l] for l in cluster]\n",
    "plt.scatter(x['TAAV'],x['RH'],c=label_color,s=10,cmap='viridis')\n",
    "plt.xlabel(\"Temperature\")\n",
    "plt.ylabel(\"Relative humidity\")\n",
    "'''"
   ]
  },
  {
   "cell_type": "code",
   "execution_count": 6,
   "metadata": {
    "collapsed": true
   },
   "outputs": [],
   "source": [
    "# get the features of each cluster\n",
    "index0, = np.where(cluster == 0)\n",
    "index1, = np.where(cluster == 1)\n",
    "index2, = np.where(cluster == 2)\n",
    "index3, = np.where(cluster == 3)\n",
    "x0 = x.iloc[index0.tolist()]\n",
    "x1 = x.iloc[index1.tolist()]\n",
    "x2 = x.iloc[index2.tolist()]\n",
    "x3 = x.iloc[index3.tolist()]\n",
    "# get the sensation of each cluster\n",
    "y0 = y.iloc[index0.tolist()]\n",
    "y1 = y.iloc[index1.tolist()]\n",
    "y2 = y.iloc[index2.tolist()]\n",
    "y3 = y.iloc[index3.tolist()]"
   ]
  },
  {
   "cell_type": "code",
   "execution_count": 7,
   "metadata": {},
   "outputs": [
    {
     "name": "stdout",
     "output_type": "stream",
     "text": [
      "INSUL TAAV RH\n"
     ]
    },
    {
     "data": {
      "text/plain": [
       "array([[ 0.8368916 , 22.32156994, 29.1716919 ],\n",
       "       [ 0.7046271 , 25.0318063 , 62.1981805 ],\n",
       "       [ 0.84669502, 22.72759261, 40.4514643 ],\n",
       "       [ 0.73902928, 23.24669723, 54.98806169]])"
      ]
     },
     "execution_count": 7,
     "metadata": {},
     "output_type": "execute_result"
    }
   ],
   "source": [
    "print('INSUL','TAAV','RH')\n",
    "gmm.means_"
   ]
  },
  {
   "cell_type": "code",
   "execution_count": 8,
   "metadata": {},
   "outputs": [
    {
     "data": {
      "text/plain": [
       "array([[[ 3.57882966e-02, -5.44620835e-02,  1.51922045e-01],\n",
       "        [-5.44620835e-02,  1.78540262e+00, -2.69824843e+00],\n",
       "        [ 1.51922045e-01, -2.69824843e+00,  2.04744660e+01]],\n",
       "\n",
       "       [[ 8.18431065e-03,  6.31197582e-02,  3.42248585e-02],\n",
       "        [ 6.31197582e-02,  5.11714491e+00,  1.74031194e+00],\n",
       "        [ 3.42248585e-02,  1.74031194e+00,  3.03122437e+01]],\n",
       "\n",
       "       [[ 4.88149149e-02, -2.16233137e-02, -5.35425763e-02],\n",
       "        [-2.16233137e-02,  6.73900208e-01, -1.20795278e+00],\n",
       "        [-5.35425763e-02, -1.20795278e+00,  3.24737276e+01]],\n",
       "\n",
       "       [[ 3.15263302e-02, -1.58762267e-02,  2.24865101e-01],\n",
       "        [-1.58762267e-02,  1.18826631e+00, -1.91131253e+00],\n",
       "        [ 2.24865101e-01, -1.91131253e+00,  6.41914204e+01]]])"
      ]
     },
     "execution_count": 8,
     "metadata": {},
     "output_type": "execute_result"
    }
   ],
   "source": [
    "gmm.covariances_"
   ]
  },
  {
   "cell_type": "code",
   "execution_count": 9,
   "metadata": {
    "collapsed": true
   },
   "outputs": [],
   "source": [
    "import matplotlib.pyplot as plt\n",
    "import matplotlib as mpl\n",
    "import itertools"
   ]
  },
  {
   "cell_type": "code",
   "execution_count": 10,
   "metadata": {
    "collapsed": true
   },
   "outputs": [],
   "source": [
    "import seaborn as sns"
   ]
  },
  {
   "cell_type": "code",
   "execution_count": 11,
   "metadata": {},
   "outputs": [
    {
     "name": "stderr",
     "output_type": "stream",
     "text": [
      "/Users/lusiliang93/anaconda3/lib/python3.6/site-packages/matplotlib/axes/_axes.py:6510: MatplotlibDeprecationWarning: \n",
      "The 'normed' kwarg was deprecated in Matplotlib 2.1 and will be removed in 3.1. Use 'density' instead.\n",
      "  alternative=\"'density'\", removal=\"3.1\")\n"
     ]
    },
    {
     "name": "stdout",
     "output_type": "stream",
     "text": [
      "(1, 316)\n",
      "(1, 185)\n",
      "(1, 172)\n"
     ]
    },
    {
     "data": {
      "image/png": "[encoded data removed]",
      "text/plain": [
       "<Figure size 432x288 with 1 Axes>"
      ]
     },
     "metadata": {},
     "output_type": "display_data"
    }
   ],
   "source": [
    "sns.distplot(y0,color='r',kde=False)\n",
    "plt.ylabel('Number of occupants')\n",
    "plt.xlabel('Prediction of thermal sensation')\n",
    "print(np.shape(np.where(y0==0)))\n",
    "print(np.shape(np.where(y0<0)))\n",
    "print(np.shape(np.where(y0>0)))"
   ]
  },
  {
   "cell_type": "code",
   "execution_count": 12,
   "metadata": {},
   "outputs": [
    {
     "name": "stderr",
     "output_type": "stream",
     "text": [
      "/Users/lusiliang93/anaconda3/lib/python3.6/site-packages/matplotlib/axes/_axes.py:6510: MatplotlibDeprecationWarning: \n",
      "The 'normed' kwarg was deprecated in Matplotlib 2.1 and will be removed in 3.1. Use 'density' instead.\n",
      "  alternative=\"'density'\", removal=\"3.1\")\n"
     ]
    },
    {
     "name": "stdout",
     "output_type": "stream",
     "text": [
      "(1, 351)\n",
      "(1, 151)\n",
      "(1, 176)\n"
     ]
    },
    {
     "data": {
      "image/png": "[encoded data removed]",
      "text/plain": [
       "<Figure size 432x288 with 1 Axes>"
      ]
     },
     "metadata": {},
     "output_type": "display_data"
    }
   ],
   "source": [
    "sns.distplot(y1,color='orange',kde=False)\n",
    "plt.ylabel('Number of occupants')\n",
    "plt.xlabel('Prediction of thermal sensation')\n",
    "print(np.shape(np.where(y1==0)))\n",
    "print(np.shape(np.where(y1<0)))\n",
    "print(np.shape(np.where(y1>0)))"
   ]
  },
  {
   "cell_type": "code",
   "execution_count": 13,
   "metadata": {},
   "outputs": [
    {
     "name": "stderr",
     "output_type": "stream",
     "text": [
      "/Users/lusiliang93/anaconda3/lib/python3.6/site-packages/matplotlib/axes/_axes.py:6510: MatplotlibDeprecationWarning: \n",
      "The 'normed' kwarg was deprecated in Matplotlib 2.1 and will be removed in 3.1. Use 'density' instead.\n",
      "  alternative=\"'density'\", removal=\"3.1\")\n"
     ]
    },
    {
     "name": "stdout",
     "output_type": "stream",
     "text": [
      "(1, 405)\n",
      "(1, 165)\n",
      "(1, 263)\n"
     ]
    },
    {
     "data": {
      "image/png": "[encoded data removed]",
      "text/plain": [
       "<Figure size 432x288 with 1 Axes>"
      ]
     },
     "metadata": {},
     "output_type": "display_data"
    }
   ],
   "source": [
    "sns.distplot(y2,color='g',kde=False)\n",
    "plt.ylabel('Number of occupants')\n",
    "plt.xlabel('Prediction of thermal sensation')\n",
    "print(np.shape(np.where(y2==0)))\n",
    "print(np.shape(np.where(y2<0)))\n",
    "print(np.shape(np.where(y2>0)))"
   ]
  },
  {
   "cell_type": "code",
   "execution_count": 14,
   "metadata": {},
   "outputs": [
    {
     "name": "stderr",
     "output_type": "stream",
     "text": [
      "/Users/lusiliang93/anaconda3/lib/python3.6/site-packages/matplotlib/axes/_axes.py:6510: MatplotlibDeprecationWarning: \n",
      "The 'normed' kwarg was deprecated in Matplotlib 2.1 and will be removed in 3.1. Use 'density' instead.\n",
      "  alternative=\"'density'\", removal=\"3.1\")\n"
     ]
    },
    {
     "name": "stdout",
     "output_type": "stream",
     "text": [
      "(1, 757)\n",
      "(1, 362)\n",
      "(1, 455)\n"
     ]
    },
    {
     "data": {
      "image/png": "[encoded data removed]",
      "text/plain": [
       "<Figure size 432x288 with 1 Axes>"
      ]
     },
     "metadata": {},
     "output_type": "display_data"
    }
   ],
   "source": [
    "sns.distplot(y3,color='purple',kde=False)\n",
    "plt.ylabel('Number of occupants')\n",
    "plt.xlabel('Prediction of thermal sensation')\n",
    "print(np.shape(np.where(y3==0)))\n",
    "print(np.shape(np.where(y3<0)))\n",
    "print(np.shape(np.where(y3>0)))"
   ]
  },
  {
   "cell_type": "code",
   "execution_count": 19,
   "metadata": {},
   "outputs": [
    {
     "name": "stderr",
     "output_type": "stream",
     "text": [
      "/Users/lusiliang93/anaconda3/lib/python3.6/site-packages/matplotlib/axes/_axes.py:6462: UserWarning: The 'normed' kwarg is deprecated, and has been replaced by the 'density' kwarg.\n",
      "  warnings.warn(\"The 'normed' kwarg is deprecated, and has been \"\n"
     ]
    },
    {
     "data": {
      "text/plain": [
       "Text(0.5,0,'Prediction of thermal sensation')"
      ]
     },
     "execution_count": 19,
     "metadata": {},
     "output_type": "execute_result"
    },
    {
     "data": {
      "image/png": "[encoded data removed]",
      "text/plain": [
       "<Figure size 432x288 with 1 Axes>"
      ]
     },
     "metadata": {},
     "output_type": "display_data"
    }
   ],
   "source": [
    "sns.distplot(y)\n",
    "plt.ylabel('Density')\n",
    "plt.xlabel('Prediction of thermal sensation')"
   ]
  },
  {
   "cell_type": "code",
   "execution_count": 20,
   "metadata": {},
   "outputs": [
    {
     "name": "stderr",
     "output_type": "stream",
     "text": [
      "/Users/lusiliang93/anaconda3/lib/python3.6/site-packages/matplotlib/axes/_axes.py:6462: UserWarning: The 'normed' kwarg is deprecated, and has been replaced by the 'density' kwarg.\n",
      "  warnings.warn(\"The 'normed' kwarg is deprecated, and has been \"\n"
     ]
    },
    {
     "data": {
      "text/plain": [
       "Text(0.5,0,'TAAV')"
      ]
     },
     "execution_count": 20,
     "metadata": {},
     "output_type": "execute_result"
    },
    {
     "data": {
      "image/png": "[encoded data removed]",
      "text/plain": [
       "<Figure size 432x288 with 1 Axes>"
      ]
     },
     "metadata": {},
     "output_type": "display_data"
    }
   ],
   "source": [
    "sns.distplot(x2['TAAV'])\n",
    "plt.ylabel('Density')\n",
    "plt.xlabel('TAAV')"
   ]
  },
  {
   "cell_type": "code",
   "execution_count": 21,
   "metadata": {
    "collapsed": true
   },
   "outputs": [],
   "source": [
    "x_new = x[['TAAV','RH','INSUL']]"
   ]
  },
  {
   "cell_type": "code",
   "execution_count": 22,
   "metadata": {
    "collapsed": true
   },
   "outputs": [],
   "source": [
    "lili_new = pd.read_csv('lili_feature.csv', sep=',',engine='python')"
   ]
  },
  {
   "cell_type": "code",
   "execution_count": 23,
   "metadata": {
    "collapsed": true
   },
   "outputs": [],
   "source": [
    "lili = lili_new[['temperature','humidity','clo','sensation']]\n",
    "lili_y = lili['sensation']\n",
    "lili_x = lili[['temperature','humidity','clo']]"
   ]
  },
  {
   "cell_type": "code",
   "execution_count": 24,
   "metadata": {
    "collapsed": true
   },
   "outputs": [],
   "source": [
    "from sklearn.neighbors import KNeighborsClassifier\n",
    "from sklearn.model_selection import KFold, cross_val_score\n",
    "from sklearn.model_selection import cross_val_predict\n",
    "from sklearn import metrics\n",
    "from sklearn.model_selection import train_test_split"
   ]
  },
  {
   "cell_type": "code",
   "execution_count": 25,
   "metadata": {},
   "outputs": [
    {
     "data": {
      "text/plain": [
       "30"
      ]
     },
     "execution_count": 25,
     "metadata": {},
     "output_type": "execute_result"
    }
   ],
   "source": [
    "x= x[['TAAV','RH','INSUL']]\n",
    "x0 = x0[['TAAV','RH','INSUL']]\n",
    "x1 = x1[['TAAV','RH','INSUL']]\n",
    "x2 = x2[['TAAV','RH','INSUL']]\n",
    "x3 = x3[['TAAV','RH','INSUL']]\n",
    "best = 0\n",
    "for i in range(30):\n",
    "    knn = KNeighborsClassifier(n_neighbors=i+1)\n",
    "    score = cross_val_score(knn, x, y, cv=5).mean()\n",
    "    if score > best:\n",
    "        best = score\n",
    "    best_k = i+1 \n",
    "    \n",
    "best_k\n",
    "# best k could be 30 but it seems the larger the k is, the better"
   ]
  },
  {
   "cell_type": "code",
   "execution_count": 26,
   "metadata": {
    "collapsed": true
   },
   "outputs": [],
   "source": [
    "knn.fit(x, y) \n",
    "# evaluation with rp884 training data\n",
    "#predicted = cross_val_predict(knn, x, y, cv=5)\n",
    "predicted = knn.predict(x)\n",
    "test_score = metrics.accuracy_score(y, predicted) \n",
    "# test with experimental data\n",
    "predicted = knn.predict(lili_x)\n",
    "test = metrics.accuracy_score(lili_y, predicted)"
   ]
  },
  {
   "cell_type": "code",
   "execution_count": 27,
   "metadata": {},
   "outputs": [
    {
     "data": {
      "text/plain": [
       "array([ 0,  0,  0,  1,  0,  1,  0,  0,  0,  1,  1, -1,  0,  0,  0,  0,  0,\n",
       "        2,  2,  2,  1,  0,  0,  2,  2,  0,  0,  0,  0, -1,  0, -1,  0, -1,\n",
       "        1,  0,  0,  0,  0,  0,  0,  0, -1,  0,  0,  0, -1,  1,  0,  0,  0,\n",
       "        0,  0,  0,  0,  0,  0,  0,  0,  0,  0,  0,  0,  0,  0,  0,  0,  0,\n",
       "        0,  2,  2,  0,  0,  0,  1,  0,  0,  0,  0,  0, -2, -3, -3,  0,  0,\n",
       "        0,  0,  1,  1,  0,  0,  0,  0,  1,  1, -1,  0,  0,  0,  0,  0,  0,\n",
       "        0,  0,  0,  0,  0,  0,  0,  0,  1,  0,  0,  0,  0,  0,  0,  1,  0,\n",
       "        0,  0,  1,  1,  0,  0,  0,  0,  0,  0,  0,  0,  0,  0,  0,  0,  0,\n",
       "        0,  2,  0,  1,  1,  0,  0,  0,  0,  0,  0,  0,  0,  1,  1,  0,  0,\n",
       "        0,  0,  0,  0,  0,  0,  0,  0,  0,  0,  0,  0,  0,  0,  0,  0,  0,\n",
       "        0,  0])"
      ]
     },
     "execution_count": 27,
     "metadata": {},
     "output_type": "execute_result"
    }
   ],
   "source": [
    "predicted"
   ]
  },
  {
   "cell_type": "code",
   "execution_count": 28,
   "metadata": {},
   "outputs": [
    {
     "data": {
      "text/plain": [
       "0.051527284428877274"
      ]
     },
     "execution_count": 28,
     "metadata": {},
     "output_type": "execute_result"
    }
   ],
   "source": [
    "diff = test_score - test\n",
    "diff"
   ]
  },
  {
   "cell_type": "code",
   "execution_count": 29,
   "metadata": {
    "collapsed": true
   },
   "outputs": [],
   "source": [
    "clf = svm.SVC(kernel='rbf',gamma=0.1,C=1)\n",
    "clf = RandomForestClassifier(n_estimators=50, max_depth = 3, random_state=0)"
   ]
  },
  {
   "cell_type": "code",
   "execution_count": 30,
   "metadata": {},
   "outputs": [
    {
     "data": {
      "text/plain": [
       "RandomForestClassifier(bootstrap=True, class_weight=None, criterion='gini',\n",
       "            max_depth=3, max_features='auto', max_leaf_nodes=None,\n",
       "            min_impurity_decrease=0.0, min_impurity_split=None,\n",
       "            min_samples_leaf=1, min_samples_split=2,\n",
       "            min_weight_fraction_leaf=0.0, n_estimators=50, n_jobs=None,\n",
       "            oob_score=False, random_state=0, verbose=0, warm_start=False)"
      ]
     },
     "execution_count": 30,
     "metadata": {},
     "output_type": "execute_result"
    }
   ],
   "source": [
    "clf.fit(x,y)"
   ]
  },
  {
   "cell_type": "code",
   "execution_count": 31,
   "metadata": {
    "collapsed": true
   },
   "outputs": [],
   "source": [
    "predicted = clf.predict(x)\n",
    "test_score = metrics.accuracy_score(y, predicted) \n",
    "predicted = clf.predict(lili_x)\n",
    "test = metrics.accuracy_score(lili_y, predicted)"
   ]
  },
  {
   "cell_type": "code",
   "execution_count": 32,
   "metadata": {},
   "outputs": [
    {
     "data": {
      "text/plain": [
       "0.03928673094298052"
      ]
     },
     "execution_count": 32,
     "metadata": {},
     "output_type": "execute_result"
    }
   ],
   "source": [
    "diff = test_score - test\n",
    "diff"
   ]
  },
  {
   "cell_type": "code",
   "execution_count": 33,
   "metadata": {},
   "outputs": [
    {
     "data": {
      "text/plain": [
       "0.4476744186046512"
      ]
     },
     "execution_count": 33,
     "metadata": {},
     "output_type": "execute_result"
    }
   ],
   "source": [
    "test"
   ]
  },
  {
   "cell_type": "code",
   "execution_count": 34,
   "metadata": {},
   "outputs": [
    {
     "data": {
      "text/plain": [
       "array([0, 0, 0, 0, 0, 0, 0, 0, 0, 0, 0, 0, 0, 0, 0, 0, 0, 0, 0, 0, 0, 0,\n",
       "       0, 0, 0, 0, 0, 0, 0, 0, 0, 0, 0, 0, 0, 0, 0, 0, 0, 0, 0, 0, 0, 0,\n",
       "       0, 0, 0, 0, 0, 0, 0, 0, 0, 0, 0, 0, 0, 0, 0, 0, 0, 0, 0, 0, 0, 0,\n",
       "       0, 0, 0, 0, 0, 0, 0, 0, 0, 0, 0, 0, 0, 0, 0, 0, 0, 0, 0, 0, 0, 0,\n",
       "       0, 0, 0, 0, 0, 0, 0, 0, 0, 0, 0, 0, 0, 0, 0, 0, 0, 0, 0, 0, 0, 0,\n",
       "       0, 0, 0, 0, 0, 0, 0, 0, 0, 0, 0, 0, 0, 0, 0, 0, 0, 0, 0, 0, 0, 0,\n",
       "       0, 0, 0, 0, 0, 0, 0, 0, 0, 0, 0, 0, 0, 0, 0, 0, 0, 0, 0, 0, 0, 0,\n",
       "       0, 0, 0, 0, 0, 0, 0, 0, 0, 0, 0, 0, 0, 0, 0, 0, 0, 0])"
      ]
     },
     "execution_count": 34,
     "metadata": {},
     "output_type": "execute_result"
    }
   ],
   "source": [
    "predicted"
   ]
  },
  {
   "cell_type": "code",
   "execution_count": null,
   "metadata": {
    "collapsed": true
   },
   "outputs": [],
   "source": []
  }
 ],
 "metadata": {
  "kernelspec": {
   "display_name": "Python 3",
   "language": "python",
   "name": "python3"
  },
  "language_info": {
   "codemirror_mode": {
    "name": "ipython",
    "version": 3
   },
   "file_extension": ".py",
   "mimetype": "text/x-python",
   "name": "python",
   "nbconvert_exporter": "python",
   "pygments_lexer": "ipython3",
   "version": "3.6.3"
  }
 },
 "nbformat": 4,
 "nbformat_minor": 2
}
