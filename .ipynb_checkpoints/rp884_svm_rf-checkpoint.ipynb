{
 "cells": [
  {
   "cell_type": "code",
   "execution_count": 2,
   "metadata": {
    "collapsed": true
   },
   "outputs": [],
   "source": [
    "import pandas as pd\n",
    "import numpy as np\n",
    "import glob\n",
    "import matplotlib.pyplot as plt\n",
    "import seaborn as sns\n",
    "sns.set(color_codes=True)"
   ]
  },
  {
   "cell_type": "code",
   "execution_count": 34,
   "metadata": {},
   "outputs": [
    {
     "data": {
      "text/plain": [
       "5776"
      ]
     },
     "execution_count": 34,
     "metadata": {},
     "output_type": "execute_result"
    }
   ],
   "source": [
    "data = pd.read_csv('raw.csv', sep=',',engine='python')\n",
    "df = data\n",
    "len(df)"
   ]
  },
  {
   "cell_type": "code",
   "execution_count": 139,
   "metadata": {},
   "outputs": [
    {
     "data": {
      "text/plain": [
       "array([0, 1, 2, 3, 4, 5, 6])"
      ]
     },
     "execution_count": 139,
     "metadata": {},
     "output_type": "execute_result"
    }
   ],
   "source": [
    "data_new = df.dropna(subset=['ASH','INSUL','TAAV','RH','dayav_ta','dayav_rh'])\n",
    "# get features and thermal sensation\n",
    "y = data_new['ASH']\n",
    "x = data_new[['INSUL','TAAV','RH','dayav_ta','dayav_rh']]\n",
    "#bool = (y==-3 or y==-2 or y==-1 or y==0 or y==1 or y==2 or y==3)\n",
    "y = np.round(y)\n",
    "from sklearn import preprocessing\n",
    "lab_enc = preprocessing.LabelEncoder()\n",
    "encoded = lab_enc.fit_transform(y)\n",
    "np.unique(encoded)"
   ]
  },
  {
   "cell_type": "code",
   "execution_count": 140,
   "metadata": {
    "collapsed": true
   },
   "outputs": [],
   "source": [
    "import sklearn.preprocessing, sklearn.decomposition,sklearn.linear_model, sklearn.pipeline, sklearn.metrics\n",
    "from sklearn.model_selection import GridSearchCV, cross_val_score\n",
    "from sklearn import datasets, svm\n",
    "from sklearn.model_selection import KFold, cross_val_score\n",
    "from sklearn.feature_extraction.text import CountVectorizer\n",
    "from sklearn_pandas import DataFrameMapper"
   ]
  },
  {
   "cell_type": "code",
   "execution_count": 141,
   "metadata": {},
   "outputs": [
    {
     "data": {
      "text/plain": [
       "array([[  0.7842    ,  25.        ,  61.        ,  27.55555556,  81.55      ],\n",
       "       [  0.682944  ,  25.        ,  61.        ,  27.55555556,  81.55      ],\n",
       "       [  0.682944  ,  25.        ,  61.        ,  27.55555556,  81.55      ],\n",
       "       ..., \n",
       "       [  0.82828   ,  23.3       ,  56.1       ,  26.94444444,  49.5       ],\n",
       "       [  0.79272   ,  23.2       ,  56.1       ,  26.94444444,  49.5       ],\n",
       "       [  0.65324   ,  23.4       ,  53.5       ,  26.94444444,  49.5       ]])"
      ]
     },
     "execution_count": 141,
     "metadata": {},
     "output_type": "execute_result"
    }
   ],
   "source": [
    "mapper = DataFrameMapper([(['INSUL'], None),\n",
    "                         (['TAAV'], None),\n",
    "                          (['RH'], None),\n",
    "                          (['dayav_ta'], None),\n",
    "                         (['dayav_rh'],None)])\n",
    "mapper.fit_transform(x.copy())\n",
    "# count the number of thermal sensation\n",
    "# bool = (y==3)\n",
    "# len(y[bool])"
   ]
  },
  {
   "cell_type": "code",
   "execution_count": 148,
   "metadata": {},
   "outputs": [
    {
     "data": {
      "text/plain": [
       "array([ 0.45770258,  0.38804639,  0.4625    ,  0.43291592,  0.46958855])"
      ]
     },
     "execution_count": 148,
     "metadata": {},
     "output_type": "execute_result"
    }
   ],
   "source": [
    "#clf = svm.SVC(kernel='linear')\n",
    "C=1\n",
    "#clf = svm.SVC(kernel='poly',degree=3,C=C)\n",
    "clf = svm.SVC(kernel='rbf',gamma=0.7,C=C)\n",
    "pipe = sklearn.pipeline.Pipeline([('featurize', mapper),('svc', clf)])\n",
    "#np.round(cross_val_score(pipe, X=data_new.copy(), y=data_new.comfort, scoring='r2'), 2)\n",
    "cross_val_score(pipe, X=x.copy(), y=encoded, cv=5)"
   ]
  },
  {
   "cell_type": "code",
   "execution_count": 149,
   "metadata": {
    "collapsed": true
   },
   "outputs": [],
   "source": [
    "# testing\n",
    "from sklearn.model_selection import cross_val_predict\n",
    "from sklearn import metrics"
   ]
  },
  {
   "cell_type": "code",
   "execution_count": 150,
   "metadata": {},
   "outputs": [
    {
     "data": {
      "text/plain": [
       "0.44214285714285712"
      ]
     },
     "execution_count": 150,
     "metadata": {},
     "output_type": "execute_result"
    }
   ],
   "source": [
    "# evaluation\n",
    "predicted = cross_val_predict(clf, x.copy(), encoded, cv=5)\n",
    "metrics.accuracy_score(encoded, predicted) "
   ]
  },
  {
   "cell_type": "code",
   "execution_count": 9,
   "metadata": {},
   "outputs": [
    {
     "data": {
      "text/html": [
       "<div>\n",
       "<style>\n",
       "    .dataframe thead tr:only-child th {\n",
       "        text-align: right;\n",
       "    }\n",
       "\n",
       "    .dataframe thead th {\n",
       "        text-align: left;\n",
       "    }\n",
       "\n",
       "    .dataframe tbody tr th {\n",
       "        vertical-align: top;\n",
       "    }\n",
       "</style>\n",
       "<table border=\"1\" class=\"dataframe\">\n",
       "  <thead>\n",
       "    <tr style=\"text-align: right;\">\n",
       "      <th></th>\n",
       "      <th>temperature</th>\n",
       "      <th>humidity</th>\n",
       "      <th>skin</th>\n",
       "      <th>clothing</th>\n",
       "    </tr>\n",
       "  </thead>\n",
       "  <tbody>\n",
       "    <tr>\n",
       "      <th>0</th>\n",
       "      <td>-1.785714</td>\n",
       "      <td>-0.457604</td>\n",
       "      <td>-2.04924</td>\n",
       "      <td>21.7</td>\n",
       "    </tr>\n",
       "  </tbody>\n",
       "</table>\n",
       "</div>"
      ],
      "text/plain": [
       "   temperature  humidity     skin  clothing\n",
       "0    -1.785714 -0.457604 -2.04924      21.7"
      ]
     },
     "execution_count": 9,
     "metadata": {},
     "output_type": "execute_result"
    }
   ],
   "source": [
    "test = x.iloc[[0]]\n",
    "clf.fit(x,y)\n",
    "gt = y[0]\n",
    "pred = clf.predict(test)\n",
    "pred\n",
    "gt\n",
    "test"
   ]
  },
  {
   "cell_type": "code",
   "execution_count": 10,
   "metadata": {},
   "outputs": [
    {
     "data": {
      "text/plain": [
       "array([-1])"
      ]
     },
     "execution_count": 10,
     "metadata": {},
     "output_type": "execute_result"
    }
   ],
   "source": [
    "import pickle\n",
    "filename = 'svm_model.sav'\n",
    "pickle.dump(clf,open(filename,'wb'),protocol=2)\n",
    "load_model = pickle.load(open(filename,'rb'))\n",
    "pred = load_model.predict(test)\n",
    "pred"
   ]
  },
  {
   "cell_type": "code",
   "execution_count": null,
   "metadata": {
    "collapsed": true
   },
   "outputs": [],
   "source": []
  }
 ],
 "metadata": {
  "kernelspec": {
   "display_name": "Python 3",
   "language": "python",
   "name": "python3"
  },
  "language_info": {
   "codemirror_mode": {
    "name": "ipython",
    "version": 3
   },
   "file_extension": ".py",
   "mimetype": "text/x-python",
   "name": "python",
   "nbconvert_exporter": "python",
   "pygments_lexer": "ipython3",
   "version": "3.6.3"
  }
 },
 "nbformat": 4,
 "nbformat_minor": 2
}
