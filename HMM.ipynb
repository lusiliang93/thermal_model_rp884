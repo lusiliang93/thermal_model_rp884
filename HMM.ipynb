{
 "cells": [
  {
   "cell_type": "code",
   "execution_count": 15,
   "metadata": {},
   "outputs": [],
   "source": [
    "import pandas as pd\n",
    "import numpy as np\n",
    "import glob\n",
    "from pomegranate import *\n",
    "import scipy\n",
    "import matplotlib.pyplot as plt\n",
    "import itertools\n",
    "from sklearn.metrics import confusion_matrix"
   ]
  },
  {
   "cell_type": "code",
   "execution_count": 3,
   "metadata": {},
   "outputs": [],
   "source": [
    "column_names = ['BLCODE',\n",
    " 'SUB',\n",
    " 'AGE',\n",
    " 'SEX',\n",
    " 'YEAR',\n",
    " 'DAY',\n",
    " 'TIME',\n",
    " 'ASH',\n",
    " 'PRXY_TSA',\n",
    " 'TSA',\n",
    " 'MCI',\n",
    " 'VENT',\n",
    " 'AVM',\n",
    " 'COMF',\n",
    " 'ACT10',\n",
    " 'ACT20',\n",
    " 'ACT30',\n",
    " 'ACT60',\n",
    " 'MET',\n",
    " 'CLO',\n",
    " 'UPHOLST',\n",
    " 'INSUL',\n",
    " 'TA_H',\n",
    " 'TA_M',\n",
    " 'TA_L',\n",
    " 'DEWPT',\n",
    " 'PRTA-B',\n",
    " 'TG_H',\n",
    " 'TG_M',\n",
    " 'TG_L',\n",
    " 'VEL_H',\n",
    " 'VEL_M',\n",
    " 'VEL_L',\n",
    " 'TURB_H',\n",
    " 'TURB_M',\n",
    " 'TURB_L',\n",
    " 'TAAV',\n",
    " 'TRAV',\n",
    " 'TOP',\n",
    " 'VELAV',\n",
    " 'VELMAX',\n",
    " 'TUAV',\n",
    " 'PA',\n",
    " 'RH',\n",
    " 'ET',\n",
    " 'SET',\n",
    " 'TSENS',\n",
    " 'DISC',\n",
    " 'PMV',\n",
    " 'PPD',\n",
    " 'PD_H',\n",
    " 'PD_M',\n",
    " 'PD_L',\n",
    " 'PD_MAX',\n",
    " 'PCC',\n",
    " 'PCC_AG',\n",
    " 'PCS',\n",
    " 'PCEC1',\n",
    " 'PCEC2',\n",
    " 'PCEC3',\n",
    " 'PCEC4',\n",
    " 'PCEC5',\n",
    " 'PCEC6',\n",
    " 'PCEC7',\n",
    " 'PCED1',\n",
    " 'PCED2',\n",
    " 'PCED3',\n",
    " 'PCED4',\n",
    " 'PCED5',\n",
    " 'PCED6',\n",
    " 'PCED7',\n",
    " 'day15_ta',\n",
    " 'day06_ta',\n",
    " 'dayav_ta',\n",
    " 'day15_rh',\n",
    " 'day06_rh',\n",
    " 'dayav_rh',\n",
    " 'day15_et',\n",
    " 'day06_et',\n",
    " 'dayav_et']"
   ]
  },
  {
   "cell_type": "code",
   "execution_count": 4,
   "metadata": {},
   "outputs": [],
   "source": [
    "data_raw = pd.read_csv('6_EXL.csv', sep=',', skiprows=6, skipfooter=4, engine='python', usecols=[i for i in range(80)], header=None, names=column_names)\n",
    "select = data_raw.apply(lambda r: any(['DIV' in str(e) or 'ACT10' in str(e) for e in r]),axis=1)\n",
    "data_raw = data_raw[~select].replace('.', np.nan).copy()\n",
    "\n",
    "data_raw['MCI'] = pd.to_numeric(data_raw['MCI'], errors='coerce')\n",
    "data_raw['ASH'] = pd.to_numeric(data_raw['ASH'], errors='coerce')\n",
    "data_raw['TAAV'] = pd.to_numeric(data_raw['TAAV'], errors='coerce')"
   ]
  },
  {
   "cell_type": "markdown",
   "metadata": {},
   "source": [
    "## To time-series data"
   ]
  },
  {
   "cell_type": "code",
   "execution_count": 5,
   "metadata": {},
   "outputs": [],
   "source": [
    "# add missing measure time\n",
    "for index, row in data_raw.iterrows():\n",
    "    if row['TIME'] is np.nan:\n",
    "        data_raw.at[index,'TIME'] = data_raw.loc[index-1, 'TIME']\n",
    "\n",
    "# sort table with year, day, time\n",
    "data = data_raw.sort_values(by=['YEAR','DAY','TIME'])"
   ]
  },
  {
   "cell_type": "code",
   "execution_count": 6,
   "metadata": {},
   "outputs": [],
   "source": [
    "## convert ash to categorical\n",
    "data['ash_cat'] = data.apply(lambda row: -1 if float(row['ASH']) <0 else 0 if float(row['ASH']) == 0 else 1, axis=1)\n",
    "data = data.dropna(subset=['TAAV', 'ASH', 'MET', 'INSUL', 'TAAV', 'RH', 'dayav_ta', 'dayav_rh'])\n",
    "features = ['MET', 'INSUL', 'TAAV', 'RH', 'dayav_rh']\n",
    "data.INSUL = data.INSUL.astype('float')\n",
    "data.MET = data.MET.astype('float')"
   ]
  },
  {
   "cell_type": "markdown",
   "metadata": {},
   "source": [
    "## Hidden Markov Model"
   ]
  },
  {
   "cell_type": "code",
   "execution_count": null,
   "metadata": {},
   "outputs": [],
   "source": [
    "# clf = hmm.GaussianHMM(n_components=3, covariance_type='full')\n",
    "# clf.fit(data['TAAV'].values.reshape(-1,1))"
   ]
  },
  {
   "cell_type": "code",
   "execution_count": null,
   "metadata": {},
   "outputs": [],
   "source": [
    "# result = clf.predict(data['TAAV'].values.reshape(-1,1))\n",
    "# print(result)\n",
    "# sum(result==2)\n"
   ]
  },
  {
   "cell_type": "code",
   "execution_count": null,
   "metadata": {},
   "outputs": [],
   "source": [
    "# sum(data['ash_cat']==1)"
   ]
  },
  {
   "cell_type": "markdown",
   "metadata": {},
   "source": [
    "## Multivariate feature"
   ]
  },
  {
   "cell_type": "code",
   "execution_count": 7,
   "metadata": {},
   "outputs": [
    {
     "data": {
      "text/html": [
       "<div>\n",
       "<style scoped>\n",
       "    .dataframe tbody tr th:only-of-type {\n",
       "        vertical-align: middle;\n",
       "    }\n",
       "\n",
       "    .dataframe tbody tr th {\n",
       "        vertical-align: top;\n",
       "    }\n",
       "\n",
       "    .dataframe thead th {\n",
       "        text-align: right;\n",
       "    }\n",
       "</style>\n",
       "<table border=\"1\" class=\"dataframe\">\n",
       "  <thead>\n",
       "    <tr style=\"text-align: right;\">\n",
       "      <th></th>\n",
       "      <th>MET</th>\n",
       "      <th>INSUL</th>\n",
       "      <th>TAAV</th>\n",
       "      <th>RH</th>\n",
       "      <th>dayav_rh</th>\n",
       "    </tr>\n",
       "  </thead>\n",
       "  <tbody>\n",
       "    <tr>\n",
       "      <th>MET</th>\n",
       "      <td>9.009009e-05</td>\n",
       "      <td>-2.785430e-05</td>\n",
       "      <td>7.921014e-04</td>\n",
       "      <td>3.589368e-04</td>\n",
       "      <td>1.645389e-30</td>\n",
       "    </tr>\n",
       "    <tr>\n",
       "      <th>INSUL</th>\n",
       "      <td>-2.785430e-05</td>\n",
       "      <td>6.776944e-03</td>\n",
       "      <td>-1.458561e-02</td>\n",
       "      <td>1.710728e-02</td>\n",
       "      <td>3.561449e-31</td>\n",
       "    </tr>\n",
       "    <tr>\n",
       "      <th>TAAV</th>\n",
       "      <td>7.921014e-04</td>\n",
       "      <td>-1.458561e-02</td>\n",
       "      <td>3.251108e+00</td>\n",
       "      <td>-2.142980e+00</td>\n",
       "      <td>-2.279327e-29</td>\n",
       "    </tr>\n",
       "    <tr>\n",
       "      <th>RH</th>\n",
       "      <td>3.589368e-04</td>\n",
       "      <td>1.710728e-02</td>\n",
       "      <td>-2.142980e+00</td>\n",
       "      <td>2.021749e+01</td>\n",
       "      <td>-2.552846e-29</td>\n",
       "    </tr>\n",
       "    <tr>\n",
       "      <th>dayav_rh</th>\n",
       "      <td>1.645389e-30</td>\n",
       "      <td>3.561449e-31</td>\n",
       "      <td>-2.279327e-29</td>\n",
       "      <td>-2.552846e-29</td>\n",
       "      <td>2.024043e-28</td>\n",
       "    </tr>\n",
       "  </tbody>\n",
       "</table>\n",
       "</div>"
      ],
      "text/plain": [
       "                   MET         INSUL          TAAV            RH      dayav_rh\n",
       "MET       9.009009e-05 -2.785430e-05  7.921014e-04  3.589368e-04  1.645389e-30\n",
       "INSUL    -2.785430e-05  6.776944e-03 -1.458561e-02  1.710728e-02  3.561449e-31\n",
       "TAAV      7.921014e-04 -1.458561e-02  3.251108e+00 -2.142980e+00 -2.279327e-29\n",
       "RH        3.589368e-04  1.710728e-02 -2.142980e+00  2.021749e+01 -2.552846e-29\n",
       "dayav_rh  1.645389e-30  3.561449e-31 -2.279327e-29 -2.552846e-29  2.024043e-28"
      ]
     },
     "execution_count": 7,
     "metadata": {},
     "output_type": "execute_result"
    }
   ],
   "source": [
    "## feature param\n",
    "cold_data = data.loc[data['ash_cat'] == -1]\n",
    "comf_data = data.loc[data['ash_cat'] == 0]\n",
    "hot_data  = data.loc[data['ash_cat'] == 1]\n",
    "\n",
    "mu_cold = []\n",
    "mu_comf = []\n",
    "mu_hot  = []\n",
    "\n",
    "\n",
    "\n",
    "for feature in features:\n",
    "    mu_cold.append(cold_data[feature].astype('float').mean())\n",
    "    mu_comf.append(comf_data[feature].astype('float').mean())\n",
    "    mu_hot.append(hot_data[feature].astype('float').mean())\n",
    "    \n",
    "cov = data[features].cov()\n",
    "cov\n",
    "\n",
    "# data[['INSUL', 'TAAV']].cov()\n"
   ]
  },
  {
   "cell_type": "code",
   "execution_count": 8,
   "metadata": {},
   "outputs": [],
   "source": [
    "## Fit \n",
    "d_cold = MultivariateGaussianDistribution(mu_cold, cov)\n",
    "d_comf = MultivariateGaussianDistribution(mu_comf, cov)\n",
    "d_hot  = MultivariateGaussianDistribution(mu_hot,  cov)\n",
    "\n",
    "\n",
    "s_cold = State(d_cold, name='cold')\n",
    "s_comf = State(d_comf, name='comf')\n",
    "s_hot  = State(d_hot,  name='hot')\n",
    "\n",
    "pt = 0.9\n",
    "trans_mat = np.array([[pt, 1-pt, 0], [1-pt, 2*pt-1, 1-pt], [0, 1-pt,pt]])\n",
    "starts = np.array([0.1, 0.8, 0.1])\n",
    "ends   = np.array([0, 1, 0])\n",
    "dists = [d_cold, d_comf, d_hot]\n",
    "model = HiddenMarkovModel.from_matrix(trans_mat, dists, starts)"
   ]
  },
  {
   "cell_type": "code",
   "execution_count": 11,
   "metadata": {},
   "outputs": [],
   "source": [
    "y = model.predict(data[features])\n",
    "y_pred = [i-1 for i in y]"
   ]
  },
  {
   "cell_type": "code",
   "execution_count": 23,
   "metadata": {},
   "outputs": [
    {
     "name": "stdout",
     "output_type": "stream",
     "text": [
      "Confusion matrix, without normalization\n",
      "[[ 95  17   0]\n",
      " [173  69   0]\n",
      " [ 70  20   0]]\n"
     ]
    },
    {
     "data": {
      "image/png": "[encoded data removed]",
      "text/plain": [
       "<matplotlib.figure.Figure at 0x1a14a69240>"
      ]
     },
     "metadata": {},
     "output_type": "display_data"
    }
   ],
   "source": [
    "def plot_confusion_matrix(cm, classes,\n",
    "                          normalize=False,\n",
    "                          title='Confusion matrix',\n",
    "                          cmap=plt.cm.Blues):\n",
    "    \"\"\"\n",
    "    This function prints and plots the confusion matrix.\n",
    "    Normalization can be applied by setting `normalize=True`.\n",
    "    \"\"\"\n",
    "    if normalize:\n",
    "        cm = cm.astype('float') / cm.sum(axis=1)[:, np.newaxis]\n",
    "        print(\"Normalized confusion matrix\")\n",
    "    else:\n",
    "        print('Confusion matrix, without normalization')\n",
    "\n",
    "    print(cm)\n",
    "\n",
    "    plt.imshow(cm, interpolation='nearest', cmap=cmap)\n",
    "    plt.title(title)\n",
    "    plt.colorbar()\n",
    "    tick_marks = np.arange(len(classes))\n",
    "    plt.xticks(tick_marks, classes, rotation=45)\n",
    "    plt.yticks(tick_marks, classes)\n",
    "\n",
    "    fmt = '.2f' if normalize else 'd'\n",
    "    thresh = cm.max() / 2.\n",
    "    for i, j in itertools.product(range(cm.shape[0]), range(cm.shape[1])):\n",
    "        plt.text(j, i, format(cm[i, j], fmt),\n",
    "                 horizontalalignment=\"center\",\n",
    "                 color=\"white\" if cm[i, j] > thresh else \"black\")\n",
    "\n",
    "    plt.tight_layout()\n",
    "    plt.ylabel('True label')\n",
    "    plt.xlabel('Predicted label')\n",
    "\n",
    "conf_mat = confusion_matrix(data['ash_cat'], y_pred)\n",
    "plot_confusion_matrix(conf_mat, ['-1','0','1'], title='')\n",
    "plt.savefig('confmatHMM.png')"
   ]
  },
  {
   "cell_type": "code",
   "execution_count": 144,
   "metadata": {},
   "outputs": [],
   "source": [
    "x_train = []\n",
    "\n",
    "features = ['MET', 'INSUL', 'TAAV', 'RH']\n",
    "for index, row in data.iterrows():\n",
    "    sample = []\n",
    "    for feature in features:\n",
    "        sample.append(row[feature])\n",
    "    x_train.append(sample)\n",
    "    \n",
    "mul_hmm = HiddenMarkovModel('Thermal').from_samples(MultivariateGaussianDistribution, n_components=3, X=x_train, algorithm='baum-welch')\n",
    "\n",
    "# d_cold = MultivariateGaussianDistribution()\n",
    "# d_comf = MultivariateGaussianDistribution(name='comf',d=8)\n",
    "# d_hot  = MultivariateGaussianDistribution(name='hot' ,d=8)\n",
    "\n",
    "# s_cold = State(d_cold, name='cold')\n",
    "# s_comf = State(d_comf, name='comf')\n",
    "# s_hot  = State(d_hot,  name='hot')\n"
   ]
  },
  {
   "cell_type": "code",
   "execution_count": 146,
   "metadata": {},
   "outputs": [
    {
     "name": "stdout",
     "output_type": "stream",
     "text": [
      "0.545045045045045\n"
     ]
    }
   ],
   "source": [
    "counts = 0\n",
    "y_pred = mul_hmm.predict(data[features])\n",
    "for index, row in data.iterrows():\n",
    "    if y_pred[i]-1 == row['ash_cat']:\n",
    "        counts = counts + 1\n",
    "\n",
    "accuracy = counts / data.shape[0]\n",
    "print(accuracy)\n"
   ]
  },
  {
   "cell_type": "code",
   "execution_count": 48,
   "metadata": {},
   "outputs": [],
   "source": [
    "# print(mu_cold)\n",
    "# print(mu_comf)\n",
    "# print(mu_hot)\n",
    "# data.loc[131,:]"
   ]
  }
 ],
 "metadata": {
  "kernelspec": {
   "display_name": "Python 3",
   "language": "python",
   "name": "python3"
  },
  "language_info": {
   "codemirror_mode": {
    "name": "ipython",
    "version": 3
   },
   "file_extension": ".py",
   "mimetype": "text/x-python",
   "name": "python",
   "nbconvert_exporter": "python",
   "pygments_lexer": "ipython3",
   "version": "3.6.4"
  }
 },
 "nbformat": 4,
 "nbformat_minor": 2
}
